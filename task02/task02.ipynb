{
 "cells": [
  {
   "attachments": {},
   "cell_type": "markdown",
   "metadata": {},
   "source": [
    "## Задача 2. Сравнение методов классификации\n",
    "\n",
    "Рыбина Екатерина Дмитриевна, 471 гр."
   ]
  },
  {
   "cell_type": "code",
   "execution_count": 103,
   "metadata": {},
   "outputs": [],
   "source": [
    "import pandas as pd\n",
    "import numpy as np\n",
    "import seaborn as sns\n",
    "import matplotlib.pyplot as plt\n",
    "\n",
    "import random\n",
    "import warnings\n",
    "\n",
    "sns.set_theme(style=\"whitegrid\")\n",
    "warnings.filterwarnings('ignore') \n",
    "pd.set_option('display.precision', 4)\n",
    "random.seed(19)\n",
    "np.set_printoptions(precision=4)\n",
    "np.random.seed(19)"
   ]
  },
  {
   "attachments": {},
   "cell_type": "markdown",
   "metadata": {},
   "source": [
    "[x] Самостоятельно реализовать один из методов классификации, с возможностью настройки гиперпараметров."
   ]
  },
  {
   "cell_type": "code",
   "execution_count": 104,
   "metadata": {},
   "outputs": [],
   "source": [
    "from sklearn.base import BaseEstimator, ClassifierMixin\n",
    "from sklearn.utils.validation import check_X_y, check_array"
   ]
  },
  {
   "attachments": {},
   "cell_type": "markdown",
   "metadata": {},
   "source": [
    "MyKNN"
   ]
  },
  {
   "cell_type": "code",
   "execution_count": 105,
   "metadata": {},
   "outputs": [],
   "source": [
    "class MyKnn(ClassifierMixin):\n",
    "    def __init__(self, n_neighbors=3):\n",
    "        self.n_neighbors = n_neighbors\n",
    "    \n",
    "    def fit(self, X, y):\n",
    "        X, y = check_X_y(X, y)\n",
    "        self.X = X\n",
    "        self.y = y\n",
    "        return self\n",
    "\n",
    "    def predict(self, X):\n",
    "        X = check_array(X)\n",
    "        predictions = []\n",
    "        for row in X:\n",
    "            distances = self.calculate_distances(row)\n",
    "            distances.sort(key=lambda tupl: tupl[1])\n",
    "            neighbors_indx = self.get_neighbors(distances)\n",
    "            label = self.get_popular_label(neighbors_indx)\n",
    "            predictions.append(label)\n",
    "        return predictions\n",
    "\n",
    "    def calculate_distances(self, row):\n",
    "        distances = list()\n",
    "        length = len(row)\n",
    "        for i, _row in enumerate(self.X):\n",
    "            dist = 0.0\n",
    "            for k in range(length - 1):\n",
    "                dist += ((row[k] - _row[k])**2)\n",
    "            dist = np.sqrt(dist)\n",
    "            distances.append((i, dist))\n",
    "        return distances\n",
    "\n",
    "    def get_neighbors(self, distances):\n",
    "        neighbors_indx = list()\n",
    "        for i in range(self.n_neighbors):\n",
    "            neighbors_indx.append(distances[i][0])\n",
    "        return neighbors_indx\n",
    "    \n",
    "    def get_popular_label(self, neighbors):\n",
    "        labels = []\n",
    "        for i in neighbors:\n",
    "            labels.append(self.y[i])\n",
    "        label = max(set(labels), key=labels.count)\n",
    "        return label\n",
    "\n",
    "    def get_params(self, deep=True):\n",
    "        return {\"n_neighbors\": self.n_neighbors}\n",
    "    \n",
    "    def set_params(self, **parameters):\n",
    "        for param, value in parameters.items():\n",
    "            setattr(self, param, value)\n",
    "        return self"
   ]
  },
  {
   "attachments": {},
   "cell_type": "markdown",
   "metadata": {},
   "source": [
    "[x] * Реализовать еще один из методов классификации и добавить его в сравнение.\n",
    "\n",
    "MySVM"
   ]
  },
  {
   "cell_type": "code",
   "execution_count": 106,
   "metadata": {},
   "outputs": [],
   "source": [
    "class MySVM(ClassifierMixin):\n",
    "    def __init__(self, alpha=0.001, lambd=0.01):\n",
    "        self.alpha = alpha\n",
    "        self.lambd = lambd\n",
    "    \n",
    "    def fit(self, X, y):\n",
    "        X, y = check_X_y(X, y)\n",
    "        self.X = X\n",
    "        self.y = y\n",
    "        self.update_weight()\n",
    "        return self\n",
    "\n",
    "    def predict(self, X):\n",
    "        X = check_array(X)\n",
    "        result = np.dot(X, self.W) - self.b\n",
    "        predicted = np.sign(result)\n",
    "        return np.where(predicted <= -1, 0, 1)\n",
    "\n",
    "    def update_weight(self):\n",
    "        y_labels = np.where(self.y <= 0, -1, 1)\n",
    "        self.W = np.zeros(self.X.shape[1])\n",
    "        self.b = 0\n",
    "        for i, row_i in enumerate(self.X):\n",
    "            delta_W = 0\n",
    "            delta_b = 0\n",
    "            if y_labels[i] * (np.dot(row_i, self.W) - self.b) >= 1:\n",
    "                delta_W = 2*self.lambd*self.W\n",
    "                delta_b = 0\n",
    "            else:\n",
    "                delta_W = 2*self.lambd*self.W - np.dot(row_i, y_labels[i])\n",
    "                delta_b = y_labels[i]\n",
    "            self.W = self.W - self.alpha*delta_W\n",
    "            self.b = self.b - self.alpha*delta_b\n",
    "\n",
    "    def get_params(self, deep=True):\n",
    "        return {\"alpha\": self.alpha, \"lambd\": self.lambd}\n",
    "    \n",
    "    def set_params(self, **parameters):\n",
    "        for param, value in parameters.items():\n",
    "            setattr(self, param, value)\n",
    "        return self"
   ]
  },
  {
   "attachments": {},
   "cell_type": "markdown",
   "metadata": {},
   "source": [
    "[x] Взять данные для предсказания заболеваний сердца \n",
    "\n",
    "[x] Считать данные, выполнить первичный анализ данных, при необходимости произвести чистку данных (**Data Cleaning**)."
   ]
  },
  {
   "cell_type": "code",
   "execution_count": 107,
   "metadata": {},
   "outputs": [
    {
     "data": {
      "text/html": [
       "<div>\n",
       "<style scoped>\n",
       "    .dataframe tbody tr th:only-of-type {\n",
       "        vertical-align: middle;\n",
       "    }\n",
       "\n",
       "    .dataframe tbody tr th {\n",
       "        vertical-align: top;\n",
       "    }\n",
       "\n",
       "    .dataframe thead th {\n",
       "        text-align: right;\n",
       "    }\n",
       "</style>\n",
       "<table border=\"1\" class=\"dataframe\">\n",
       "  <thead>\n",
       "    <tr style=\"text-align: right;\">\n",
       "      <th></th>\n",
       "      <th>age</th>\n",
       "      <th>sex</th>\n",
       "      <th>cp</th>\n",
       "      <th>trestbps</th>\n",
       "      <th>chol</th>\n",
       "      <th>fbs</th>\n",
       "      <th>restecg</th>\n",
       "      <th>thalach</th>\n",
       "      <th>exang</th>\n",
       "      <th>oldpeak</th>\n",
       "      <th>slope</th>\n",
       "      <th>ca</th>\n",
       "      <th>thal</th>\n",
       "      <th>target</th>\n",
       "    </tr>\n",
       "  </thead>\n",
       "  <tbody>\n",
       "    <tr>\n",
       "      <th>0</th>\n",
       "      <td>52</td>\n",
       "      <td>1</td>\n",
       "      <td>0</td>\n",
       "      <td>125</td>\n",
       "      <td>212</td>\n",
       "      <td>0</td>\n",
       "      <td>1</td>\n",
       "      <td>168</td>\n",
       "      <td>0</td>\n",
       "      <td>1.0</td>\n",
       "      <td>2</td>\n",
       "      <td>2</td>\n",
       "      <td>3</td>\n",
       "      <td>0</td>\n",
       "    </tr>\n",
       "    <tr>\n",
       "      <th>1</th>\n",
       "      <td>53</td>\n",
       "      <td>1</td>\n",
       "      <td>0</td>\n",
       "      <td>140</td>\n",
       "      <td>203</td>\n",
       "      <td>1</td>\n",
       "      <td>0</td>\n",
       "      <td>155</td>\n",
       "      <td>1</td>\n",
       "      <td>3.1</td>\n",
       "      <td>0</td>\n",
       "      <td>0</td>\n",
       "      <td>3</td>\n",
       "      <td>0</td>\n",
       "    </tr>\n",
       "    <tr>\n",
       "      <th>2</th>\n",
       "      <td>70</td>\n",
       "      <td>1</td>\n",
       "      <td>0</td>\n",
       "      <td>145</td>\n",
       "      <td>174</td>\n",
       "      <td>0</td>\n",
       "      <td>1</td>\n",
       "      <td>125</td>\n",
       "      <td>1</td>\n",
       "      <td>2.6</td>\n",
       "      <td>0</td>\n",
       "      <td>0</td>\n",
       "      <td>3</td>\n",
       "      <td>0</td>\n",
       "    </tr>\n",
       "    <tr>\n",
       "      <th>3</th>\n",
       "      <td>61</td>\n",
       "      <td>1</td>\n",
       "      <td>0</td>\n",
       "      <td>148</td>\n",
       "      <td>203</td>\n",
       "      <td>0</td>\n",
       "      <td>1</td>\n",
       "      <td>161</td>\n",
       "      <td>0</td>\n",
       "      <td>0.0</td>\n",
       "      <td>2</td>\n",
       "      <td>1</td>\n",
       "      <td>3</td>\n",
       "      <td>0</td>\n",
       "    </tr>\n",
       "    <tr>\n",
       "      <th>4</th>\n",
       "      <td>62</td>\n",
       "      <td>0</td>\n",
       "      <td>0</td>\n",
       "      <td>138</td>\n",
       "      <td>294</td>\n",
       "      <td>1</td>\n",
       "      <td>1</td>\n",
       "      <td>106</td>\n",
       "      <td>0</td>\n",
       "      <td>1.9</td>\n",
       "      <td>1</td>\n",
       "      <td>3</td>\n",
       "      <td>2</td>\n",
       "      <td>0</td>\n",
       "    </tr>\n",
       "  </tbody>\n",
       "</table>\n",
       "</div>"
      ],
      "text/plain": [
       "   age  sex  cp  trestbps  chol  fbs  restecg  thalach  exang  oldpeak  slope  \\\n",
       "0   52    1   0       125   212    0        1      168      0      1.0      2   \n",
       "1   53    1   0       140   203    1        0      155      1      3.1      0   \n",
       "2   70    1   0       145   174    0        1      125      1      2.6      0   \n",
       "3   61    1   0       148   203    0        1      161      0      0.0      2   \n",
       "4   62    0   0       138   294    1        1      106      0      1.9      1   \n",
       "\n",
       "   ca  thal  target  \n",
       "0   2     3       0  \n",
       "1   0     3       0  \n",
       "2   0     3       0  \n",
       "3   1     3       0  \n",
       "4   3     2       0  "
      ]
     },
     "execution_count": 107,
     "metadata": {},
     "output_type": "execute_result"
    }
   ],
   "source": [
    "df = pd.read_csv('heart.csv')\n",
    "df.head()"
   ]
  },
  {
   "cell_type": "code",
   "execution_count": 108,
   "metadata": {},
   "outputs": [
    {
     "data": {
      "text/plain": [
       "age         0\n",
       "sex         0\n",
       "cp          0\n",
       "trestbps    0\n",
       "chol        0\n",
       "fbs         0\n",
       "restecg     0\n",
       "thalach     0\n",
       "exang       0\n",
       "oldpeak     0\n",
       "slope       0\n",
       "ca          0\n",
       "thal        0\n",
       "target      0\n",
       "dtype: int64"
      ]
     },
     "execution_count": 108,
     "metadata": {},
     "output_type": "execute_result"
    }
   ],
   "source": [
    "df.isnull().sum()"
   ]
  },
  {
   "cell_type": "code",
   "execution_count": 109,
   "metadata": {},
   "outputs": [
    {
     "data": {
      "text/plain": [
       "1    526\n",
       "0    499\n",
       "Name: target, dtype: int64"
      ]
     },
     "execution_count": 109,
     "metadata": {},
     "output_type": "execute_result"
    }
   ],
   "source": [
    "df[\"target\"].value_counts()"
   ]
  },
  {
   "attachments": {},
   "cell_type": "markdown",
   "metadata": {},
   "source": [
    "В наборе данных нет пропущенных значений и количество с заболеванием и без примерно одинаково."
   ]
  },
  {
   "attachments": {},
   "cell_type": "markdown",
   "metadata": {},
   "source": [
    "[x] Выполнить разведочный анализ (**EDA**), использовать визуализацию, сделать выводы, которые могут быть полезны при дальнейшем решении задачи классификации."
   ]
  },
  {
   "cell_type": "code",
   "execution_count": 110,
   "metadata": {},
   "outputs": [
    {
     "data": {
      "text/plain": [
       "1    713\n",
       "0    312\n",
       "Name: sex, dtype: int64"
      ]
     },
     "execution_count": 110,
     "metadata": {},
     "output_type": "execute_result"
    }
   ],
   "source": [
    "df[\"sex\"].value_counts()"
   ]
  },
  {
   "cell_type": "code",
   "execution_count": 111,
   "metadata": {},
   "outputs": [
    {
     "data": {
      "text/plain": [
       "sex  target\n",
       "0    0          86\n",
       "     1         226\n",
       "1    0         413\n",
       "     1         300\n",
       "Name: target, dtype: int64"
      ]
     },
     "execution_count": 111,
     "metadata": {},
     "output_type": "execute_result"
    }
   ],
   "source": [
    "df.groupby(['sex', 'target'])['target'].count() "
   ]
  },
  {
   "cell_type": "code",
   "execution_count": 112,
   "metadata": {},
   "outputs": [
    {
     "data": {
      "text/plain": [
       "<AxesSubplot: xlabel='sex', ylabel='count'>"
      ]
     },
     "execution_count": 112,
     "metadata": {},
     "output_type": "execute_result"
    },
    {
     "data": {
      "image/png": "[encoded data removed]",
      "text/plain": [
       "<Figure size 640x480 with 1 Axes>"
      ]
     },
     "metadata": {},
     "output_type": "display_data"
    }
   ],
   "source": [
    "sns.countplot(x='sex', hue='target', data=df)"
   ]
  },
  {
   "cell_type": "code",
   "execution_count": 113,
   "metadata": {},
   "outputs": [
    {
     "data": {
      "text/plain": [
       "<AxesSubplot: xlabel='sex', ylabel='target'>"
      ]
     },
     "execution_count": 113,
     "metadata": {},
     "output_type": "execute_result"
    },
    {
     "data": {
      "image/png": "[encoded data removed]",
      "text/plain": [
       "<Figure size 640x480 with 1 Axes>"
      ]
     },
     "metadata": {},
     "output_type": "display_data"
    }
   ],
   "source": [
    "sns.barplot(x='sex', y='target', data=df)"
   ]
  },
  {
   "attachments": {},
   "cell_type": "markdown",
   "metadata": {},
   "source": [
    "Несмотря на то, что в данном наборе мужчин в два раза больше женщин, последние имеют большую вероятность иметь заболевание сердца."
   ]
  },
  {
   "cell_type": "code",
   "execution_count": 114,
   "metadata": {},
   "outputs": [
    {
     "data": {
      "text/plain": [
       "<seaborn.axisgrid.FacetGrid at 0x1e001630580>"
      ]
     },
     "execution_count": 114,
     "metadata": {},
     "output_type": "execute_result"
    },
    {
     "data": {
      "image/png": "[encoded data removed]",
      "text/plain": [
       "<Figure size 563.5x500 with 1 Axes>"
      ]
     },
     "metadata": {},
     "output_type": "display_data"
    }
   ],
   "source": [
    "sns.catplot(data=df, kind=\"violin\", x=\"sex\", y=\"age\", hue=\"target\", split=True)"
   ]
  },
  {
   "attachments": {},
   "cell_type": "markdown",
   "metadata": {},
   "source": [
    "* Среди пациентов нет тех, кто моложе 29 лет\n",
    "* У женщинс заболеванием почти нет зависимости от возраста\n",
    "* Среди мужчин, диагноз имеют те у кого возраст 40-45 и 50-60"
   ]
  },
  {
   "cell_type": "code",
   "execution_count": 115,
   "metadata": {},
   "outputs": [
    {
     "data": {
      "text/plain": [
       "0    497\n",
       "2    284\n",
       "1    167\n",
       "3     77\n",
       "Name: cp, dtype: int64"
      ]
     },
     "execution_count": 115,
     "metadata": {},
     "output_type": "execute_result"
    }
   ],
   "source": [
    "df[\"cp\"].value_counts()"
   ]
  },
  {
   "cell_type": "code",
   "execution_count": 116,
   "metadata": {},
   "outputs": [
    {
     "data": {
      "text/plain": [
       "<AxesSubplot: xlabel='cp', ylabel='count'>"
      ]
     },
     "execution_count": 116,
     "metadata": {},
     "output_type": "execute_result"
    },
    {
     "data": {
      "image/png": "[encoded data removed]",
      "text/plain": [
       "<Figure size 640x480 with 1 Axes>"
      ]
     },
     "metadata": {},
     "output_type": "display_data"
    }
   ],
   "source": [
    "sns.countplot(x='cp', hue='target', data=df)"
   ]
  },
  {
   "cell_type": "code",
   "execution_count": 117,
   "metadata": {},
   "outputs": [
    {
     "data": {
      "text/plain": [
       "<AxesSubplot: xlabel='cp', ylabel='target'>"
      ]
     },
     "execution_count": 117,
     "metadata": {},
     "output_type": "execute_result"
    },
    {
     "data": {
      "image/png": "[encoded data removed]",
      "text/plain": [
       "<Figure size 640x480 with 1 Axes>"
      ]
     },
     "metadata": {},
     "output_type": "display_data"
    }
   ],
   "source": [
    "sns.barplot(x='cp', y='target', data=df)"
   ]
  },
  {
   "attachments": {},
   "cell_type": "markdown",
   "metadata": {},
   "source": [
    "В основном у пациентов с типом грудной боли 0 мало наблюдается заболевание сердца. "
   ]
  },
  {
   "attachments": {},
   "cell_type": "markdown",
   "metadata": {},
   "source": [
    "[x] При необходимости выполнить полезные преобразования данных (например, трансформировать категариальные признаки в количественные), убрать ненужные признаки, создать новые (**Feature Engineering**)."
   ]
  },
  {
   "cell_type": "code",
   "execution_count": 118,
   "metadata": {},
   "outputs": [
    {
     "data": {
      "text/html": [
       "<div>\n",
       "<style scoped>\n",
       "    .dataframe tbody tr th:only-of-type {\n",
       "        vertical-align: middle;\n",
       "    }\n",
       "\n",
       "    .dataframe tbody tr th {\n",
       "        vertical-align: top;\n",
       "    }\n",
       "\n",
       "    .dataframe thead th {\n",
       "        text-align: right;\n",
       "    }\n",
       "</style>\n",
       "<table border=\"1\" class=\"dataframe\">\n",
       "  <thead>\n",
       "    <tr style=\"text-align: right;\">\n",
       "      <th></th>\n",
       "      <th>age</th>\n",
       "      <th>sex</th>\n",
       "      <th>trestbps</th>\n",
       "      <th>chol</th>\n",
       "      <th>fbs</th>\n",
       "      <th>restecg</th>\n",
       "      <th>thalach</th>\n",
       "      <th>exang</th>\n",
       "      <th>oldpeak</th>\n",
       "      <th>ca</th>\n",
       "      <th>...</th>\n",
       "      <th>cp_1</th>\n",
       "      <th>cp_2</th>\n",
       "      <th>cp_3</th>\n",
       "      <th>thal_0</th>\n",
       "      <th>thal_1</th>\n",
       "      <th>thal_2</th>\n",
       "      <th>thal_3</th>\n",
       "      <th>slope_0</th>\n",
       "      <th>slope_1</th>\n",
       "      <th>slope_2</th>\n",
       "    </tr>\n",
       "  </thead>\n",
       "  <tbody>\n",
       "    <tr>\n",
       "      <th>0</th>\n",
       "      <td>52</td>\n",
       "      <td>1</td>\n",
       "      <td>125</td>\n",
       "      <td>212</td>\n",
       "      <td>0</td>\n",
       "      <td>1</td>\n",
       "      <td>168</td>\n",
       "      <td>0</td>\n",
       "      <td>1.0</td>\n",
       "      <td>2</td>\n",
       "      <td>...</td>\n",
       "      <td>0</td>\n",
       "      <td>0</td>\n",
       "      <td>0</td>\n",
       "      <td>0</td>\n",
       "      <td>0</td>\n",
       "      <td>0</td>\n",
       "      <td>1</td>\n",
       "      <td>0</td>\n",
       "      <td>0</td>\n",
       "      <td>1</td>\n",
       "    </tr>\n",
       "    <tr>\n",
       "      <th>1</th>\n",
       "      <td>53</td>\n",
       "      <td>1</td>\n",
       "      <td>140</td>\n",
       "      <td>203</td>\n",
       "      <td>1</td>\n",
       "      <td>0</td>\n",
       "      <td>155</td>\n",
       "      <td>1</td>\n",
       "      <td>3.1</td>\n",
       "      <td>0</td>\n",
       "      <td>...</td>\n",
       "      <td>0</td>\n",
       "      <td>0</td>\n",
       "      <td>0</td>\n",
       "      <td>0</td>\n",
       "      <td>0</td>\n",
       "      <td>0</td>\n",
       "      <td>1</td>\n",
       "      <td>1</td>\n",
       "      <td>0</td>\n",
       "      <td>0</td>\n",
       "    </tr>\n",
       "    <tr>\n",
       "      <th>2</th>\n",
       "      <td>70</td>\n",
       "      <td>1</td>\n",
       "      <td>145</td>\n",
       "      <td>174</td>\n",
       "      <td>0</td>\n",
       "      <td>1</td>\n",
       "      <td>125</td>\n",
       "      <td>1</td>\n",
       "      <td>2.6</td>\n",
       "      <td>0</td>\n",
       "      <td>...</td>\n",
       "      <td>0</td>\n",
       "      <td>0</td>\n",
       "      <td>0</td>\n",
       "      <td>0</td>\n",
       "      <td>0</td>\n",
       "      <td>0</td>\n",
       "      <td>1</td>\n",
       "      <td>1</td>\n",
       "      <td>0</td>\n",
       "      <td>0</td>\n",
       "    </tr>\n",
       "    <tr>\n",
       "      <th>3</th>\n",
       "      <td>61</td>\n",
       "      <td>1</td>\n",
       "      <td>148</td>\n",
       "      <td>203</td>\n",
       "      <td>0</td>\n",
       "      <td>1</td>\n",
       "      <td>161</td>\n",
       "      <td>0</td>\n",
       "      <td>0.0</td>\n",
       "      <td>1</td>\n",
       "      <td>...</td>\n",
       "      <td>0</td>\n",
       "      <td>0</td>\n",
       "      <td>0</td>\n",
       "      <td>0</td>\n",
       "      <td>0</td>\n",
       "      <td>0</td>\n",
       "      <td>1</td>\n",
       "      <td>0</td>\n",
       "      <td>0</td>\n",
       "      <td>1</td>\n",
       "    </tr>\n",
       "    <tr>\n",
       "      <th>4</th>\n",
       "      <td>62</td>\n",
       "      <td>0</td>\n",
       "      <td>138</td>\n",
       "      <td>294</td>\n",
       "      <td>1</td>\n",
       "      <td>1</td>\n",
       "      <td>106</td>\n",
       "      <td>0</td>\n",
       "      <td>1.9</td>\n",
       "      <td>3</td>\n",
       "      <td>...</td>\n",
       "      <td>0</td>\n",
       "      <td>0</td>\n",
       "      <td>0</td>\n",
       "      <td>0</td>\n",
       "      <td>0</td>\n",
       "      <td>1</td>\n",
       "      <td>0</td>\n",
       "      <td>0</td>\n",
       "      <td>1</td>\n",
       "      <td>0</td>\n",
       "    </tr>\n",
       "  </tbody>\n",
       "</table>\n",
       "<p>5 rows × 22 columns</p>\n",
       "</div>"
      ],
      "text/plain": [
       "   age  sex  trestbps  chol  fbs  restecg  thalach  exang  oldpeak  ca  ...  \\\n",
       "0   52    1       125   212    0        1      168      0      1.0   2  ...   \n",
       "1   53    1       140   203    1        0      155      1      3.1   0  ...   \n",
       "2   70    1       145   174    0        1      125      1      2.6   0  ...   \n",
       "3   61    1       148   203    0        1      161      0      0.0   1  ...   \n",
       "4   62    0       138   294    1        1      106      0      1.9   3  ...   \n",
       "\n",
       "   cp_1  cp_2  cp_3  thal_0  thal_1  thal_2  thal_3  slope_0  slope_1  slope_2  \n",
       "0     0     0     0       0       0       0       1        0        0        1  \n",
       "1     0     0     0       0       0       0       1        1        0        0  \n",
       "2     0     0     0       0       0       0       1        1        0        0  \n",
       "3     0     0     0       0       0       0       1        0        0        1  \n",
       "4     0     0     0       0       0       1       0        0        1        0  \n",
       "\n",
       "[5 rows x 22 columns]"
      ]
     },
     "execution_count": 118,
     "metadata": {},
     "output_type": "execute_result"
    }
   ],
   "source": [
    "cp_dum = pd.get_dummies(df['cp'], prefix = \"cp\")\n",
    "thal_dum = pd.get_dummies(df['thal'], prefix = \"thal\")\n",
    "slope_dum = pd.get_dummies(df['slope'], prefix = \"slope\")\n",
    "\n",
    "frames = [df, cp_dum, thal_dum, slope_dum]\n",
    "df = pd.concat(frames, axis = 1)\n",
    "df = df.drop(columns = ['cp', 'thal', 'slope'])\n",
    "\n",
    "df.head()"
   ]
  },
  {
   "attachments": {},
   "cell_type": "markdown",
   "metadata": {},
   "source": [
    "[x] Используя **подбор гиперпараметров**, **кросс-валидацию** и при необходимости **масштабирование данных**, добиться наилучшего качества предсказания от Вашей реализации на выделенной заранее тестовой выборке."
   ]
  },
  {
   "attachments": {},
   "cell_type": "markdown",
   "metadata": {},
   "source": [
    "#### Разбиение данных на тестовую и обучающую выборки"
   ]
  },
  {
   "cell_type": "code",
   "execution_count": 119,
   "metadata": {},
   "outputs": [],
   "source": [
    "from sklearn.model_selection import train_test_split\n",
    "\n",
    "X = df.drop(['target'], axis=1)\n",
    "y = df['target']\n",
    "\n",
    "X_train, X_test, y_train, y_test = train_test_split(X, y, test_size=0.3, random_state=42)"
   ]
  },
  {
   "attachments": {},
   "cell_type": "markdown",
   "metadata": {},
   "source": [
    "#### Масштабирование данных"
   ]
  },
  {
   "cell_type": "code",
   "execution_count": 120,
   "metadata": {},
   "outputs": [],
   "source": [
    "from sklearn.preprocessing import StandardScaler\n",
    "\n",
    "scaler = StandardScaler()\n",
    "\n",
    "X_train_scaled = scaler.fit_transform(X_train)\n",
    "X_test_scaled = scaler.transform(X_test)\n",
    "\n",
    "X_train_scaled = pd.DataFrame(X_train_scaled, columns=X.columns)\n",
    "X_test_scaled = pd.DataFrame(X_test_scaled, columns=X.columns)"
   ]
  },
  {
   "attachments": {},
   "cell_type": "markdown",
   "metadata": {},
   "source": [
    "#### Подбор наилучшего подмножества признаков"
   ]
  },
  {
   "cell_type": "code",
   "execution_count": 121,
   "metadata": {},
   "outputs": [
    {
     "name": "stdout",
     "output_type": "stream",
     "text": [
      "Optimal numbers of feature: 15\n",
      "Selected features: ['sex', 'trestbps', 'chol', 'thalach', 'exang', 'oldpeak', 'ca', 'cp_0', 'cp_1', 'cp_2', 'cp_3', 'thal_0', 'thal_2', 'thal_3', 'slope_1']\n"
     ]
    }
   ],
   "source": [
    "from sklearn.feature_selection import RFECV\n",
    "from sklearn.linear_model import RidgeClassifierCV\n",
    "\n",
    "rfecv = RFECV(estimator=RidgeClassifierCV())\n",
    "rfecv.fit(X_train_scaled, y_train)\n",
    "\n",
    "print(f\"Optimal numbers of feature: {rfecv.n_features_}\")\n",
    "features = list(X_train_scaled.columns[rfecv.support_])\n",
    "print(f\"Selected features: {features}\")"
   ]
  },
  {
   "cell_type": "code",
   "execution_count": 122,
   "metadata": {},
   "outputs": [],
   "source": [
    "X_train_scaled = X_train_scaled[features]\n",
    "X_test_scaled = X_test_scaled[features]"
   ]
  },
  {
   "attachments": {},
   "cell_type": "markdown",
   "metadata": {},
   "source": [
    "#### Подбор гиперпараметров"
   ]
  },
  {
   "cell_type": "code",
   "execution_count": 123,
   "metadata": {},
   "outputs": [],
   "source": [
    "from sklearn.model_selection import StratifiedKFold, GridSearchCV\n",
    "\n",
    "cv = StratifiedKFold(5, shuffle=True, random_state=19)"
   ]
  },
  {
   "attachments": {},
   "cell_type": "markdown",
   "metadata": {},
   "source": [
    "MyKNN"
   ]
  },
  {
   "cell_type": "code",
   "execution_count": 124,
   "metadata": {},
   "outputs": [
    {
     "name": "stdout",
     "output_type": "stream",
     "text": [
      "Neighbors: 3\n"
     ]
    }
   ],
   "source": [
    "neighbors_grid = [3,5,7,9,11]\n",
    "\n",
    "searcher_myknn = GridSearchCV(MyKnn(), [{\"neighbors\": neighbors_grid}], cv=cv)\n",
    "searcher_myknn.fit(X_train_scaled, y_train)\n",
    "\n",
    "optimal_n_neighbors = searcher_myknn.best_params_[\"neighbors\"]\n",
    "print(f\"Neighbors: {optimal_n_neighbors}\")"
   ]
  },
  {
   "attachments": {},
   "cell_type": "markdown",
   "metadata": {},
   "source": [
    "MySVM"
   ]
  },
  {
   "cell_type": "code",
   "execution_count": 125,
   "metadata": {},
   "outputs": [
    {
     "name": "stdout",
     "output_type": "stream",
     "text": [
      "Alpha: 0.001\n",
      "Lambda: 0.001\n"
     ]
    }
   ],
   "source": [
    "alpha_mysvm_grid = [0.001, 0.01, 0.1, 1]\n",
    "lambd_mysvm_grid = [0.001, 0.01, 0.1, 1]\n",
    "\n",
    "seracher_mysvm = GridSearchCV(MySVM(), [{\"alpha\": alpha_mysvm_grid,\n",
    "                                         \"lambd\": lambd_mysvm_grid}], cv=cv)\n",
    "seracher_mysvm.fit(X_train_scaled, y_train)\n",
    "\n",
    "optimal_alpha_mysvm = seracher_mysvm.best_params_[\"alpha\"]\n",
    "print(f\"Alpha: {optimal_alpha_mysvm}\")\n",
    "optimal_lambd_mysvm = seracher_mysvm.best_params_[\"lambd\"]\n",
    "print(f\"Lambda: {optimal_lambd_mysvm}\")"
   ]
  },
  {
   "attachments": {},
   "cell_type": "markdown",
   "metadata": {},
   "source": [
    "[x] Повторить предыдущий пункт для библиотечных реализаций (например, из **sklearn**) всех пройденных методов классификации (**logistic regression, svm, knn, naive bayes, decision tree**)."
   ]
  },
  {
   "attachments": {},
   "cell_type": "markdown",
   "metadata": {},
   "source": [
    "KNN (библиотечная)"
   ]
  },
  {
   "cell_type": "code",
   "execution_count": 126,
   "metadata": {},
   "outputs": [
    {
     "name": "stdout",
     "output_type": "stream",
     "text": [
      "Neighbors: 3\n"
     ]
    }
   ],
   "source": [
    "from sklearn.neighbors import KNeighborsClassifier\n",
    "\n",
    "searcher_knn = GridSearchCV(KNeighborsClassifier(), [{\"n_neighbors\": neighbors_grid}], cv=cv)\n",
    "searcher_knn.fit(X_train_scaled, y_train)\n",
    "\n",
    "optimal_n_neighbors_knn = searcher_knn.best_params_[\"n_neighbors\"]\n",
    "print(f\"Neighbors: {optimal_n_neighbors_knn}\")"
   ]
  },
  {
   "attachments": {},
   "cell_type": "markdown",
   "metadata": {},
   "source": [
    "SVM (библиотечная)"
   ]
  },
  {
   "cell_type": "code",
   "execution_count": 127,
   "metadata": {},
   "outputs": [
    {
     "name": "stdout",
     "output_type": "stream",
     "text": [
      "Kernel: rbf\n",
      "C: 1\n",
      "Gamma: scale\n"
     ]
    }
   ],
   "source": [
    "from sklearn.svm import SVC\n",
    "\n",
    "kernel_grid = [\"linear\", \"rbf\"]\n",
    "c_grid = [0.1, 0.25, 0.5, 0.75, 1]\n",
    "gamma_grid = [\"scale\", \"auto\"]\n",
    "\n",
    "searcher_svm = GridSearchCV(SVC(random_state=19), [{\"kernel\": kernel_grid, \"C\": c_grid, \"gamma\": gamma_grid}], cv=cv)\n",
    "searcher_svm.fit(X_train_scaled, y_train)\n",
    "\n",
    "optimal_kernel = searcher_svm.best_params_[\"kernel\"]\n",
    "print(f\"Kernel: {optimal_kernel}\")\n",
    "optimal_c = searcher_svm.best_params_[\"C\"]\n",
    "print(f\"C: {optimal_c}\")\n",
    "optimal_gamma = searcher_svm.best_params_[\"gamma\"]\n",
    "print(f\"Gamma: {optimal_gamma}\")"
   ]
  },
  {
   "attachments": {},
   "cell_type": "markdown",
   "metadata": {},
   "source": [
    "Logistic regression (библиотечная, LG)"
   ]
  },
  {
   "cell_type": "code",
   "execution_count": 128,
   "metadata": {},
   "outputs": [
    {
     "name": "stdout",
     "output_type": "stream",
     "text": [
      "C: 0.46415888336127775\n"
     ]
    }
   ],
   "source": [
    "from sklearn.linear_model import LogisticRegression\n",
    "\n",
    "c_lg_grid = np.logspace(-3, 3, 10)\n",
    "\n",
    "searcher_lg = GridSearchCV(LogisticRegression(), [{\"C\": c_lg_grid}], cv=cv)\n",
    "searcher_lg.fit(X_train_scaled, y_train)\n",
    "\n",
    "optimal_c_lg = searcher_lg.best_params_[\"C\"]\n",
    "print(f\"C: {optimal_c_lg}\")\n"
   ]
  },
  {
   "attachments": {},
   "cell_type": "markdown",
   "metadata": {},
   "source": [
    "Naive Bayes (библиотечная, NB)"
   ]
  },
  {
   "cell_type": "code",
   "execution_count": 129,
   "metadata": {},
   "outputs": [
    {
     "name": "stdout",
     "output_type": "stream",
     "text": [
      "var_smoothing: 0.281176869797423\n"
     ]
    }
   ],
   "source": [
    "from sklearn.naive_bayes import GaussianNB\n",
    "\n",
    "var_smoothing_grid = np.logspace(0, -9)\n",
    "\n",
    "sercher_nb = GridSearchCV(GaussianNB(), [{\"var_smoothing\" : var_smoothing_grid}], cv=cv)\n",
    "sercher_nb.fit(X_train_scaled, y_train)\n",
    "\n",
    "optimal_var_smoothing = sercher_nb.best_params_[\"var_smoothing\"]\n",
    "print(f\"var_smoothing: {optimal_var_smoothing}\")"
   ]
  },
  {
   "attachments": {},
   "cell_type": "markdown",
   "metadata": {},
   "source": [
    "Decision Tree (библиотечная, DT)"
   ]
  },
  {
   "cell_type": "code",
   "execution_count": 130,
   "metadata": {},
   "outputs": [
    {
     "name": "stdout",
     "output_type": "stream",
     "text": [
      "Max depth: 8\n",
      "Min samples leaf: 2\n",
      "Min samples split: 2\n"
     ]
    }
   ],
   "source": [
    "from sklearn.tree import DecisionTreeClassifier\n",
    "\n",
    "max_depth_grid = range(1, 11)\n",
    "min_samples_leaf_grid = [2, 4, 6]\n",
    "min_samples_split_grid = [2, 6, 6]\n",
    "params_dt = [{\"max_depth\": max_depth_grid,\n",
    "              \"min_samples_leaf\": min_samples_leaf_grid,\n",
    "              \"min_samples_split\": min_samples_split_grid}]\n",
    "\n",
    "searcher_dt = GridSearchCV(DecisionTreeClassifier(random_state=19), params_dt, cv=cv)\n",
    "searcher_dt.fit(X_train_scaled, y_train)\n",
    "\n",
    "optimal_max_depth = searcher_dt.best_params_[\"max_depth\"]\n",
    "print(f\"Max depth: {optimal_max_depth}\")\n",
    "optimal_min_samples_leaf = searcher_dt.best_params_[\"min_samples_leaf\"]\n",
    "print(f\"Min samples leaf: {optimal_min_samples_leaf}\")\n",
    "optimal_min_samples_split = searcher_dt.best_params_[\"min_samples_split\"]\n",
    "print(f\"Min samples split: {optimal_min_samples_split}\")"
   ]
  },
  {
   "attachments": {},
   "cell_type": "markdown",
   "metadata": {},
   "source": [
    "[x] Сравнить все обученные модели, построить их **confusion matrices**. Сделать выводы о полученных моделях в рамках решения задачи классификации на выбранных данных."
   ]
  },
  {
   "cell_type": "code",
   "execution_count": 131,
   "metadata": {},
   "outputs": [],
   "source": [
    "from sklearn.metrics import accuracy_score\n",
    "\n",
    "accuracies = {}"
   ]
  },
  {
   "attachments": {},
   "cell_type": "markdown",
   "metadata": {},
   "source": [
    "MyKNN"
   ]
  },
  {
   "cell_type": "code",
   "execution_count": 132,
   "metadata": {},
   "outputs": [
    {
     "name": "stdout",
     "output_type": "stream",
     "text": [
      "Test accuracy of MyKNN: 0.9058441558441559\n"
     ]
    }
   ],
   "source": [
    "classifier = MyKnn(optimal_n_neighbors)\n",
    "classifier.fit(X_train_scaled, y_train)\n",
    "\n",
    "y_test_myknn = classifier.predict(X_test_scaled)\n",
    "\n",
    "accuracy_myknn = accuracy_score(y_test, y_test_myknn)\n",
    "accuracies['MyKNN'] = accuracy_myknn\n",
    "print(f\"Test accuracy of MyKNN: {accuracy_myknn}\")"
   ]
  },
  {
   "attachments": {},
   "cell_type": "markdown",
   "metadata": {},
   "source": [
    "MySVM"
   ]
  },
  {
   "cell_type": "code",
   "execution_count": 133,
   "metadata": {},
   "outputs": [
    {
     "name": "stdout",
     "output_type": "stream",
     "text": [
      "Test accuracy of MySVM: 0.8409090909090909\n"
     ]
    }
   ],
   "source": [
    "classifier_mysvm = MySVM(alpha=optimal_alpha_mysvm, lambd=optimal_lambd_mysvm)\n",
    "classifier_mysvm.fit(X_train_scaled, y_train)\n",
    "\n",
    "y_test_mysvm = classifier_mysvm.predict(X_test_scaled)\n",
    "\n",
    "accuracy_mysvm = accuracy_score(y_test, y_test_mysvm)\n",
    "accuracies[\"MySVM\"] = accuracy_mysvm\n",
    "print(f\"Test accuracy of MySVM: {accuracy_mysvm}\")"
   ]
  },
  {
   "attachments": {},
   "cell_type": "markdown",
   "metadata": {},
   "source": [
    "KNN (библиотечная)"
   ]
  },
  {
   "cell_type": "code",
   "execution_count": 134,
   "metadata": {},
   "outputs": [
    {
     "name": "stdout",
     "output_type": "stream",
     "text": [
      "Test accuracy of KNN: 0.9285714285714286\n"
     ]
    }
   ],
   "source": [
    "classifier_knn = KNeighborsClassifier(optimal_n_neighbors_knn)\n",
    "classifier_knn.fit(X_train_scaled, y_train)\n",
    "\n",
    "y_test_knn = classifier_knn.predict(X_test_scaled)\n",
    "\n",
    "accuracy_knn = accuracy_score(y_test, y_test_knn)\n",
    "accuracies['KNN'] = accuracy_knn\n",
    "print(f\"Test accuracy of KNN: {accuracy_knn}\")"
   ]
  },
  {
   "attachments": {},
   "cell_type": "markdown",
   "metadata": {},
   "source": [
    "SVM (библиотечная)"
   ]
  },
  {
   "cell_type": "code",
   "execution_count": 135,
   "metadata": {},
   "outputs": [
    {
     "name": "stdout",
     "output_type": "stream",
     "text": [
      "Test accuracy of SVM: 0.8733766233766234\n"
     ]
    }
   ],
   "source": [
    "classifier_svm = SVC(kernel=optimal_kernel, C=optimal_c, gamma=optimal_gamma, random_state=19)\n",
    "classifier_svm.fit(X_train_scaled, y_train)\n",
    "\n",
    "y_test_svm = classifier_svm.predict(X_test_scaled)\n",
    "\n",
    "accuracy_svm = accuracy_score(y_test, y_test_svm)\n",
    "accuracies['SVM'] = accuracy_svm\n",
    "print(f\"Test accuracy of SVM: {accuracy_svm}\")"
   ]
  },
  {
   "attachments": {},
   "cell_type": "markdown",
   "metadata": {},
   "source": [
    "Logistic regression (библиотечная)"
   ]
  },
  {
   "cell_type": "code",
   "execution_count": 136,
   "metadata": {},
   "outputs": [
    {
     "name": "stdout",
     "output_type": "stream",
     "text": [
      "Test accuracy of LG: 0.8116883116883117\n"
     ]
    }
   ],
   "source": [
    "classifier_lg = LogisticRegression(C=optimal_c_lg)\n",
    "classifier_lg.fit(X_train_scaled, y_train)\n",
    "\n",
    "y_test_lg = classifier_lg.predict(X_test_scaled)\n",
    "\n",
    "accuracy_lg = accuracy_score(y_test, y_test_lg)\n",
    "accuracies['LG'] = accuracy_lg\n",
    "print(f\"Test accuracy of LG: {accuracy_lg}\")"
   ]
  },
  {
   "attachments": {},
   "cell_type": "markdown",
   "metadata": {},
   "source": [
    "Naive Bayes (библиотечная)"
   ]
  },
  {
   "cell_type": "code",
   "execution_count": 137,
   "metadata": {},
   "outputs": [
    {
     "name": "stdout",
     "output_type": "stream",
     "text": [
      "Test accuracy of NB: 0.8084415584415584\n"
     ]
    }
   ],
   "source": [
    "classifier_nb = GaussianNB(var_smoothing=optimal_var_smoothing)\n",
    "classifier_nb.fit(X_train_scaled, y_train)\n",
    "\n",
    "y_test_nb = classifier_nb.predict(X_test_scaled)\n",
    "\n",
    "accuracy_nb = accuracy_score(y_test, y_test_nb)\n",
    "accuracies['NB'] = accuracy_nb\n",
    "print(f\"Test accuracy of NB: {accuracy_nb}\")"
   ]
  },
  {
   "attachments": {},
   "cell_type": "markdown",
   "metadata": {},
   "source": [
    "Decision Tree (библиотечная)"
   ]
  },
  {
   "cell_type": "code",
   "execution_count": 138,
   "metadata": {},
   "outputs": [
    {
     "name": "stdout",
     "output_type": "stream",
     "text": [
      "Test accuracy of NB: 0.948051948051948\n"
     ]
    }
   ],
   "source": [
    "classifier_dt = DecisionTreeClassifier(max_depth=optimal_max_depth, \n",
    "                min_samples_leaf=optimal_min_samples_leaf, \n",
    "                min_samples_split=optimal_min_samples_split, \n",
    "                random_state=19)\n",
    "classifier_dt.fit(X_train_scaled, y_train)\n",
    "\n",
    "y_test_dt = classifier_dt.predict(X_test_scaled)\n",
    "\n",
    "accuracy_dt = accuracy_score(y_test, y_test_dt)\n",
    "accuracies['DT'] = accuracy_dt\n",
    "print(f\"Test accuracy of NB: {accuracy_dt}\")"
   ]
  },
  {
   "cell_type": "code",
   "execution_count": 139,
   "metadata": {},
   "outputs": [
    {
     "data": {
      "image/png": "[encoded data removed]",
      "text/plain": [
       "<Figure size 2000x1000 with 1 Axes>"
      ]
     },
     "metadata": {},
     "output_type": "display_data"
    }
   ],
   "source": [
    "sns.set_style(\"whitegrid\")\n",
    "plt.figure(figsize=(20, 10))\n",
    "plt.xlabel(\"Models\")\n",
    "plt.ylabel(\"Accuracy\")\n",
    "plt.yticks(np.arange(0, 1.05, 0.05))\n",
    "\n",
    "sns.barplot(x=list(accuracies.keys()), y=list(accuracies.values()))\n",
    "plt.show()"
   ]
  },
  {
   "cell_type": "code",
   "execution_count": 140,
   "metadata": {},
   "outputs": [],
   "source": [
    "from sklearn.metrics import confusion_matrix\n",
    "\n",
    "my_knn_cm = confusion_matrix(y_test, y_test_myknn)\n",
    "my_svm_cm = confusion_matrix(y_test, y_test_mysvm)\n",
    "knn_cm = confusion_matrix(y_test, y_test_knn)\n",
    "svm_cm = confusion_matrix(y_test, y_test_svm)\n",
    "lg_cm = confusion_matrix(y_test, y_test_lg)\n",
    "nb_cm = confusion_matrix(y_test, y_test_nb)\n",
    "dt_cm = confusion_matrix(y_test, y_test_dt)"
   ]
  },
  {
   "cell_type": "code",
   "execution_count": 141,
   "metadata": {},
   "outputs": [
    {
     "data": {
      "text/plain": [
       "<AxesSubplot: title={'center': 'NB Confusion Matrix'}>"
      ]
     },
     "execution_count": 141,
     "metadata": {},
     "output_type": "execute_result"
    },
    {
     "data": {
      "image/png": "[encoded data removed]",
      "text/plain": [
       "<Figure size 2000x1000 with 14 Axes>"
      ]
     },
     "metadata": {},
     "output_type": "display_data"
    }
   ],
   "source": [
    "plt.figure(figsize=(20, 10))\n",
    "plt.suptitle(\"Confusion Matrixes\", fontsize=18)\n",
    "plt.subplots_adjust(wspace=0.5, hspace=0.5)\n",
    "\n",
    "plt.subplot(2, 4, 1)\n",
    "plt.title(\"MyKNN Confusion Matrix\")\n",
    "sns.heatmap(my_knn_cm, annot=True, cmap=\"Greens\", fmt=\"d\", annot_kws={\"size\": 18})\n",
    "\n",
    "plt.subplot(2, 4, 2)\n",
    "plt.title(\"MySVM Confusion Matrix\")\n",
    "sns.heatmap(my_svm_cm, annot=True, cmap=\"Greens\", fmt=\"d\", annot_kws={\"size\": 18})\n",
    "\n",
    "plt.subplot(2, 4, 3)\n",
    "plt.title(\"KNN Confusion Matrix\")\n",
    "sns.heatmap(knn_cm, annot=True, cmap=\"Greens\", fmt=\"d\", annot_kws={\"size\": 18})\n",
    "\n",
    "plt.subplot(2, 4, 4)\n",
    "plt.title(\"SVM Confusion Matrix\")\n",
    "sns.heatmap(svm_cm, annot=True, cmap=\"Greens\", fmt=\"d\", annot_kws={\"size\": 18})\n",
    "\n",
    "plt.subplot(2, 4, 5)\n",
    "plt.title(\"LG Confusion Matrix\")\n",
    "sns.heatmap(lg_cm, annot=True, cmap=\"Greens\", fmt=\"d\", annot_kws={\"size\": 18})\n",
    "\n",
    "plt.subplot(2, 4, 6)\n",
    "plt.title(\"NB Confusion Matrix\")\n",
    "sns.heatmap(nb_cm, annot=True, cmap=\"Greens\", fmt=\"d\", annot_kws={\"size\": 18})\n",
    "\n",
    "plt.subplot(2, 4, 7)\n",
    "plt.title(\"NB Confusion Matrix\")\n",
    "sns.heatmap(dt_cm, annot=True, cmap=\"Greens\", fmt=\"d\", annot_kws={\"size\": 18})\n"
   ]
  },
  {
   "attachments": {},
   "cell_type": "markdown",
   "metadata": {},
   "source": [
    "Выводы по первому набору данных:\n",
    "* Собственные реализации KNN и SVM оказались близкими по точности к соответсвующим библиотечным моделям\n",
    "* Самой точной моделью оказалась библиотечная Decision Tree\n",
    "* Все модели показали точность результата больше 0.8"
   ]
  }
 ],
 "metadata": {
  "kernelspec": {
   "display_name": "Python 3",
   "language": "python",
   "name": "python3"
  },
  "language_info": {
   "codemirror_mode": {
    "name": "ipython",
    "version": 3
   },
   "file_extension": ".py",
   "mimetype": "text/x-python",
   "name": "python",
   "nbconvert_exporter": "python",
   "pygments_lexer": "ipython3",
   "version": "3.10.2"
  },
  "orig_nbformat": 4,
  "vscode": {
   "interpreter": {
    "hash": "d3e10ef16274dd72e574b8fa73b58450b957d8421a2901baded3cca26fcf5dda"
   }
  }
 },
 "nbformat": 4,
 "nbformat_minor": 2
}
