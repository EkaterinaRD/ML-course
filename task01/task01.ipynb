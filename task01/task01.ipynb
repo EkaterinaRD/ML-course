{
 "cells": [
  {
   "attachments": {},
   "cell_type": "markdown",
   "metadata": {},
   "source": [
    "## Задача 1. Линейная регрессия, метод градиентного спуска\n",
    "\n",
    "Рыбина Екатерина Дмитриевна, 471 гр."
   ]
  },
  {
   "cell_type": "code",
   "execution_count": 279,
   "metadata": {},
   "outputs": [],
   "source": [
    "import pandas as pd\n",
    "import numpy as np\n",
    "from numpy import ndarray\n",
    "import seaborn as sns\n",
    "\n",
    "import random\n",
    "import warnings\n",
    "\n",
    "sns.set_theme(style=\"whitegrid\")\n",
    "warnings.filterwarnings('ignore')\n",
    "pd.set_option('display.precision', 4)\n",
    "random.seed(19)\n",
    "np.set_printoptions(precision=4)\n",
    "np.random.seed(19)"
   ]
  },
  {
   "attachments": {},
   "cell_type": "markdown",
   "metadata": {},
   "source": [
    "[x] Самостоятельно реализовать функцию **gradient_descent(X, y)**, которая по заданной обучающей выборке обучает модель линейной регрессии, оптимизируя функционал **методом градиентного спуска (Batch Gradient Descent, GD)** и возвращая вектор весов **w**. В качестве функционала можно выбрать, например, функцию ошибок **MSE** + $L_2$-регуляризатор. Использовать матрично-векторные операции для вычисления градиента."
   ]
  },
  {
   "cell_type": "code",
   "execution_count": 280,
   "metadata": {},
   "outputs": [],
   "source": [
    "def gradient_descent(X, y, alpha=1, epsilon=1):\n",
    "    m, n = X.shape\n",
    "    \n",
    "    free_col = np.ones((X.shape[0], 1))\n",
    "    x_long = np.concatenate((free_col,X), axis=1)\n",
    "    \n",
    "    n_new = n + 1\n",
    "    \n",
    "    W = np.ones(n_new,)\n",
    "    \n",
    "    old_cost = 0\n",
    "    Q = 0\n",
    "    lambd = 0.001\n",
    "    \n",
    "    while True:\n",
    "        y_predicted = x_long.dot(W)\n",
    "\n",
    "        loss = y_predicted - y\n",
    "        RL2 = np.sum(np.square(W[1:]))\n",
    "        Q = np.sum(loss ** 2) / n + 2.0 * alpha * RL2\n",
    "\n",
    "        gradient = (2.0 / n) * (x_long.T.dot(loss) + alpha * W)\n",
    "\n",
    "        W = W - lambd * gradient    \n",
    "\n",
    "        if abs(Q - old_cost) < epsilon:\n",
    "            break\n",
    "            \n",
    "        old_cost = Q\n",
    "        \n",
    "    return W"
   ]
  },
  {
   "attachments": {},
   "cell_type": "markdown",
   "metadata": {},
   "source": [
    "[x] * Также самостоятельно реализовать **метод стохастического градиентного спуска (Stochastic Gradient Descent, SGD)**, обучить модели и добавить их во все сравнения."
   ]
  },
  {
   "cell_type": "code",
   "execution_count": 281,
   "metadata": {},
   "outputs": [],
   "source": [
    "def stochastic_gd(X, y, alpha=1, lambd = 0.001, epsilon=1E-2, epochs=1000):\n",
    "    m,n = X.shape\n",
    "\n",
    "    free_col = np.ones((X.shape[0], 1))\n",
    "    x_long = np.concatenate((free_col, X), axis=1)\n",
    "    W = np.random.randn(n + 1).reshape(n + 1, 1)\n",
    "\n",
    "    for _ in range(epochs):\n",
    "        for i in range(m):\n",
    "\n",
    "            idx = np.random.randint(0, m)\n",
    "\n",
    "            X_i = x_long[idx, :].reshape(1, n + 1)\n",
    "            y_i = y[idx].reshape(1, 1)\n",
    "\n",
    "            y_predicted = X_i.dot(W)\n",
    "            loss = y_predicted - y_i\n",
    "\n",
    "            gradient = 2.0 * X_i.T.dot(loss) + alpha * W\n",
    "            lg = lambd * gradient\n",
    "            W = W - lg\n",
    "            \n",
    "            if np.all(abs(lg)<=epsilon):\n",
    "                return W\n",
    "\n",
    "    return W"
   ]
  },
  {
   "attachments": {},
   "cell_type": "markdown",
   "metadata": {},
   "source": [
    "[x] * Также самостоятельно реализовать **метод мини-пакетного градиентного спуска (Mini Batch Gradient Descent)**, обучить модели и добавить их во все сравнения."
   ]
  },
  {
   "cell_type": "code",
   "execution_count": 282,
   "metadata": {},
   "outputs": [],
   "source": [
    "def mini_batch_gd(X, y, batches, lambd=0.01, epsilon=1E-2, epochs=1000):\n",
    "    m,n = X.shape\n",
    "    W = np.ones(X.shape[1])\n",
    "    X = X.to_numpy()\n",
    "\n",
    "    cost = 0\n",
    "    k = 1\n",
    "    for _ in range(epochs):\n",
    "        for _ in range(int(m / batches)):\n",
    "            idx = random.sample(range(m), batches)\n",
    "            X_i = X[idx]\n",
    "            y_i = y[idx]\n",
    "\n",
    "            y_predicted = np.dot(X_i, W) + cost\n",
    "            loss = y_i - y_predicted\n",
    "\n",
    "            cost = cost - (lambd * -2 * np.mean(loss))\n",
    "\n",
    "            gradient = -2 * np.dot(loss, X_i)\n",
    "            lg = lambd * gradient\n",
    "            W = W - lg\n",
    "\n",
    "            if np.all(abs(lg) < epsilon):\n",
    "                return W, cost\n",
    "    return W, cost\n"
   ]
  },
  {
   "attachments": {},
   "cell_type": "markdown",
   "metadata": {},
   "source": [
    "[x] Найти данные, на которых интересно будет решать задачу регрессии.\n",
    "Для решения задачи был взят набор данных для предсказания стоимости машин.\n",
    "[x] Считать данные, выполнить первичный анализ данных, при необходимости произвести чистку данных (**Data Cleaning**)."
   ]
  },
  {
   "cell_type": "code",
   "execution_count": 283,
   "metadata": {},
   "outputs": [
    {
     "name": "stdout",
     "output_type": "stream",
     "text": [
      "<class 'pandas.core.frame.DataFrame'>\n",
      "RangeIndex: 205 entries, 0 to 204\n",
      "Data columns (total 26 columns):\n",
      " #   Column            Non-Null Count  Dtype  \n",
      "---  ------            --------------  -----  \n",
      " 0   car_ID            205 non-null    int64  \n",
      " 1   symboling         205 non-null    int64  \n",
      " 2   CarName           205 non-null    object \n",
      " 3   fueltype          205 non-null    object \n",
      " 4   aspiration        205 non-null    object \n",
      " 5   doornumber        205 non-null    object \n",
      " 6   carbody           205 non-null    object \n",
      " 7   drivewheel        205 non-null    object \n",
      " 8   enginelocation    205 non-null    object \n",
      " 9   wheelbase         205 non-null    float64\n",
      " 10  carlength         205 non-null    float64\n",
      " 11  carwidth          205 non-null    float64\n",
      " 12  carheight         205 non-null    float64\n",
      " 13  curbweight        205 non-null    int64  \n",
      " 14  enginetype        205 non-null    object \n",
      " 15  cylindernumber    205 non-null    object \n",
      " 16  enginesize        205 non-null    int64  \n",
      " 17  fuelsystem        205 non-null    object \n",
      " 18  boreratio         205 non-null    float64\n",
      " 19  stroke            205 non-null    float64\n",
      " 20  compressionratio  205 non-null    float64\n",
      " 21  horsepower        205 non-null    int64  \n",
      " 22  peakrpm           205 non-null    int64  \n",
      " 23  citympg           205 non-null    int64  \n",
      " 24  highwaympg        205 non-null    int64  \n",
      " 25  price             205 non-null    float64\n",
      "dtypes: float64(8), int64(8), object(10)\n",
      "memory usage: 41.8+ KB\n"
     ]
    }
   ],
   "source": [
    "df = pd.read_csv(\"car_price.csv\")\n",
    "df.info()"
   ]
  },
  {
   "attachments": {},
   "cell_type": "markdown",
   "metadata": {},
   "source": [
    "ID автомобиля можно убрать, так как это никак не влияет на предсказание его стоимости:"
   ]
  },
  {
   "cell_type": "code",
   "execution_count": 284,
   "metadata": {},
   "outputs": [],
   "source": [
    "df = df.drop(columns=[\"car_ID\"])"
   ]
  },
  {
   "cell_type": "code",
   "execution_count": 285,
   "metadata": {},
   "outputs": [
    {
     "data": {
      "text/plain": [
       "symboling           0\n",
       "CarName             0\n",
       "fueltype            0\n",
       "aspiration          0\n",
       "doornumber          0\n",
       "carbody             0\n",
       "drivewheel          0\n",
       "enginelocation      0\n",
       "wheelbase           0\n",
       "carlength           0\n",
       "carwidth            0\n",
       "carheight           0\n",
       "curbweight          0\n",
       "enginetype          0\n",
       "cylindernumber      0\n",
       "enginesize          0\n",
       "fuelsystem          0\n",
       "boreratio           0\n",
       "stroke              0\n",
       "compressionratio    0\n",
       "horsepower          0\n",
       "peakrpm             0\n",
       "citympg             0\n",
       "highwaympg          0\n",
       "price               0\n",
       "dtype: int64"
      ]
     },
     "execution_count": 285,
     "metadata": {},
     "output_type": "execute_result"
    }
   ],
   "source": [
    "df.isnull().sum()"
   ]
  },
  {
   "attachments": {},
   "cell_type": "markdown",
   "metadata": {},
   "source": [
    "В данном наборе нет пропущенных значений."
   ]
  },
  {
   "cell_type": "code",
   "execution_count": 286,
   "metadata": {},
   "outputs": [
    {
     "data": {
      "text/plain": [
       "147"
      ]
     },
     "execution_count": 286,
     "metadata": {},
     "output_type": "execute_result"
    }
   ],
   "source": [
    "len(df['CarName'].unique())"
   ]
  },
  {
   "attachments": {},
   "cell_type": "markdown",
   "metadata": {},
   "source": [
    "Уникальных имён/марок автомобилей больше половины от общего числа. Следовательно имя так же не влияет на предсказание стоимости автомобиля. Данный признак можно убрать:"
   ]
  },
  {
   "cell_type": "code",
   "execution_count": 287,
   "metadata": {},
   "outputs": [],
   "source": [
    "df = df.drop(columns=[\"CarName\"])"
   ]
  },
  {
   "attachments": {},
   "cell_type": "markdown",
   "metadata": {},
   "source": [
    "Признаки carlength, carwidth, carheight и curbweight обобщаются признаком carbody."
   ]
  },
  {
   "cell_type": "code",
   "execution_count": 288,
   "metadata": {},
   "outputs": [],
   "source": [
    "df = df.drop(columns=[\"carlength\", \"carwidth\", \"carheight\", \"curbweight\"])"
   ]
  },
  {
   "attachments": {},
   "cell_type": "markdown",
   "metadata": {},
   "source": [
    "[x] Выполнить разведочный анализ (**EDA**), использовать визуализацию, сделать выводы, которые могут быть полезны при дальнейшем решении задачи регрессии."
   ]
  },
  {
   "cell_type": "code",
   "execution_count": 289,
   "metadata": {},
   "outputs": [
    {
     "data": {
      "text/plain": [
       "<seaborn.axisgrid.FacetGrid at 0x1e44e7a9840>"
      ]
     },
     "execution_count": 289,
     "metadata": {},
     "output_type": "execute_result"
    },
    {
     "data": {
      "image/png": "[encoded data removed]",
      "text/plain": [
       "<Figure size 500x500 with 1 Axes>"
      ]
     },
     "metadata": {},
     "output_type": "display_data"
    }
   ],
   "source": [
    "sns.displot(x='price', data=df, kde=True)"
   ]
  },
  {
   "cell_type": "code",
   "execution_count": 290,
   "metadata": {},
   "outputs": [
    {
     "name": "stdout",
     "output_type": "stream",
     "text": [
      "price       | count\n",
      " < 11k      | 109\n",
      " 11k-19k    | 68\n",
      " > 19k      | 28\n"
     ]
    }
   ],
   "source": [
    "print(\"price       | count\")\n",
    "print(f\" < 11k      | {df[df['price'] <= 11000].shape[0]}\")\n",
    "print(f\" 11k-19k    | {df[(df['price'] > 11000) & (df['price'] <= 19000)].shape[0]}\")\n",
    "print(f\" > 19k      | {df[df['price'] > 19000].shape[0]}\")"
   ]
  },
  {
   "attachments": {},
   "cell_type": "markdown",
   "metadata": {},
   "source": [
    "Большинство автомобилей в ценовой категории от 5000 до примерно 11000. Затем идут 11000-19000, и самые дорогие начиная от 19000.\n",
    "\n",
    "Теперь рассмотрим как влияет на цену вид топлива, который используется машиной"
   ]
  },
  {
   "cell_type": "code",
   "execution_count": 291,
   "metadata": {},
   "outputs": [
    {
     "data": {
      "text/plain": [
       "<AxesSubplot: xlabel='fueltype', ylabel='price'>"
      ]
     },
     "execution_count": 291,
     "metadata": {},
     "output_type": "execute_result"
    },
    {
     "data": {
      "image/png": "[encoded data removed]",
      "text/plain": [
       "<Figure size 640x480 with 1 Axes>"
      ]
     },
     "metadata": {},
     "output_type": "display_data"
    }
   ],
   "source": [
    "sns.barplot(x='fueltype', y='price', data=df)"
   ]
  },
  {
   "cell_type": "code",
   "execution_count": 292,
   "metadata": {},
   "outputs": [
    {
     "data": {
      "text/plain": [
       "<AxesSubplot: xlabel='carbody', ylabel='price'>"
      ]
     },
     "execution_count": 292,
     "metadata": {},
     "output_type": "execute_result"
    },
    {
     "data": {
      "image/png": "[encoded data removed]",
      "text/plain": [
       "<Figure size 640x480 with 1 Axes>"
      ]
     },
     "metadata": {},
     "output_type": "display_data"
    }
   ],
   "source": [
    "sns.barplot(x='carbody', y='price', data=df)"
   ]
  },
  {
   "cell_type": "code",
   "execution_count": 293,
   "metadata": {},
   "outputs": [
    {
     "data": {
      "text/plain": [
       "<seaborn.axisgrid.FacetGrid at 0x1e44fac2ce0>"
      ]
     },
     "execution_count": 293,
     "metadata": {},
     "output_type": "execute_result"
    },
    {
     "data": {
      "image/png": "[encoded data removed]",
      "text/plain": [
       "<Figure size 500x500 with 1 Axes>"
      ]
     },
     "metadata": {},
     "output_type": "display_data"
    }
   ],
   "source": [
    "sns.displot(x='carbody', data=df, kde=True)"
   ]
  },
  {
   "attachments": {},
   "cell_type": "markdown",
   "metadata": {},
   "source": [
    "Sedan, hatchback и wagon являются наиболее предпачительными по цене чем convertible и hardtop"
   ]
  },
  {
   "attachments": {},
   "cell_type": "markdown",
   "metadata": {},
   "source": [
    "В среднем машины на газу дешевле, чем дизельные"
   ]
  },
  {
   "attachments": {},
   "cell_type": "markdown",
   "metadata": {},
   "source": [
    "[x] При необходимости выполнить полезные преобразования данных (например, трансформировать категариальные признаки в количественные), убрать ненужные признаки, создать новые (**Feature Engineering**)"
   ]
  },
  {
   "cell_type": "code",
   "execution_count": 294,
   "metadata": {},
   "outputs": [
    {
     "name": "stdout",
     "output_type": "stream",
     "text": [
      "<class 'pandas.core.frame.DataFrame'>\n",
      "RangeIndex: 205 entries, 0 to 204\n",
      "Data columns (total 20 columns):\n",
      " #   Column            Non-Null Count  Dtype  \n",
      "---  ------            --------------  -----  \n",
      " 0   symboling         205 non-null    int64  \n",
      " 1   fueltype          205 non-null    int64  \n",
      " 2   aspiration        205 non-null    int64  \n",
      " 3   doornumber        205 non-null    int64  \n",
      " 4   carbody           205 non-null    int64  \n",
      " 5   drivewheel        205 non-null    int64  \n",
      " 6   enginelocation    205 non-null    int64  \n",
      " 7   wheelbase         205 non-null    float64\n",
      " 8   enginetype        205 non-null    int64  \n",
      " 9   cylindernumber    205 non-null    int64  \n",
      " 10  enginesize        205 non-null    int64  \n",
      " 11  fuelsystem        205 non-null    int64  \n",
      " 12  boreratio         205 non-null    float64\n",
      " 13  stroke            205 non-null    float64\n",
      " 14  compressionratio  205 non-null    float64\n",
      " 15  horsepower        205 non-null    int64  \n",
      " 16  peakrpm           205 non-null    int64  \n",
      " 17  citympg           205 non-null    int64  \n",
      " 18  highwaympg        205 non-null    int64  \n",
      " 19  price             205 non-null    float64\n",
      "dtypes: float64(5), int64(15)\n",
      "memory usage: 32.2 KB\n"
     ]
    }
   ],
   "source": [
    "df['fueltype'].replace(['gas', 'diesel'], [1, 2], inplace=True)\n",
    "df['aspiration'].replace(['std', 'turbo'], [1, 2], inplace=True)\n",
    "df['doornumber'].replace(['two', 'four'], [2, 4], inplace=True)\n",
    "df['carbody'].replace(['convertible', 'hatchback', 'sedan', 'wagon', 'hardtop'], [1,2,3,4,5], inplace=True)\n",
    "df['drivewheel'].replace(['rwd', 'fwd', '4wd'], [1,2,3], inplace=True)\n",
    "df['enginelocation'].replace(['front', 'rear'], [1,2], inplace=True)\n",
    "df['enginetype'].replace(['dohc', 'ohcv', 'ohc', 'l', 'rotor', 'ohcf', 'dohcv'], [1,2,3,4,5,6,7], inplace=True)\n",
    "df['cylindernumber'].replace(['four', 'six', 'five', 'three', 'twelve', 'two', 'eight'], [4,6,5,3,12,2,8], inplace=True)\n",
    "df['fuelsystem'].replace(['mpfi', '2bbl', 'mfi', '1bbl', 'spfi', '4bbl', 'idi', 'spdi'], [1,2,3,4,5,6,7,8], inplace=True)\n",
    "\n",
    "df.info()"
   ]
  },
  {
   "attachments": {},
   "cell_type": "markdown",
   "metadata": {},
   "source": [
    "[x] Случайным образом разбить данные на **обучающую** и **тестовую** выборки, используя методы существующих библиотек."
   ]
  },
  {
   "cell_type": "code",
   "execution_count": 295,
   "metadata": {},
   "outputs": [],
   "source": [
    "from sklearn.model_selection import train_test_split\n",
    "\n",
    "X = df.drop(['price'], axis=1)\n",
    "y = df['price']\n",
    "\n",
    "X_train, X_test, y_train, y_test = train_test_split(X, y, test_size=0.3, random_state=42)"
   ]
  },
  {
   "attachments": {},
   "cell_type": "markdown",
   "metadata": {},
   "source": [
    "[x] При обучении моделей использовать **масштабирование данных**."
   ]
  },
  {
   "cell_type": "code",
   "execution_count": 296,
   "metadata": {},
   "outputs": [],
   "source": [
    "from sklearn.preprocessing import StandardScaler\n",
    "\n",
    "scaler = StandardScaler()\n",
    "\n",
    "X_train_scaled = scaler.fit_transform(X_train)\n",
    "X_test_scaled = scaler.transform(X_test)\n",
    "\n",
    "X_train_scaled = pd.DataFrame(X_train_scaled, columns=X.columns)\n",
    "X_test_scaled = pd.DataFrame(X_test_scaled, columns=X.columns)"
   ]
  },
  {
   "attachments": {},
   "cell_type": "markdown",
   "metadata": {},
   "source": [
    "[x] * Перед обучением моделей подобрать наилучшее количество (и само подмножество) признаков, например используя **Recursive Feature Elimination (RFE)**."
   ]
  },
  {
   "cell_type": "code",
   "execution_count": 297,
   "metadata": {},
   "outputs": [
    {
     "name": "stdout",
     "output_type": "stream",
     "text": [
      "Optimal numbers of feature: 17\n",
      "Selected features: ['symboling', 'fueltype', 'aspiration', 'doornumber', 'carbody', 'drivewheel', 'enginelocation', 'wheelbase', 'enginetype', 'cylindernumber', 'enginesize', 'fuelsystem', 'boreratio', 'stroke', 'compressionratio', 'peakrpm', 'citympg']\n"
     ]
    }
   ],
   "source": [
    "from sklearn.feature_selection import RFECV\n",
    "from sklearn.linear_model import LinearRegression\n",
    "\n",
    "rfecv = RFECV(estimator=LinearRegression())\n",
    "rfecv.fit(X_train_scaled, y_train)\n",
    "\n",
    "print(f\"Optimal numbers of feature: {rfecv.n_features_}\")\n",
    "features = list(X_train_scaled.columns[rfecv.support_])\n",
    "print(f\"Selected features: {features}\")"
   ]
  },
  {
   "attachments": {},
   "cell_type": "markdown",
   "metadata": {},
   "source": [
    "[x] * Во все ваши реализации добавить возможность настройки нужных **гиперпараметров**, а в процессе обучения **всех** моделей осуществить подбор оптимальных значений этих гиперпараметров."
   ]
  },
  {
   "cell_type": "code",
   "execution_count": 298,
   "metadata": {},
   "outputs": [
    {
     "name": "stdout",
     "output_type": "stream",
     "text": [
      "Alpha: 10.0\n",
      "Epsilon: 0.001\n"
     ]
    }
   ],
   "source": [
    "from sklearn.model_selection import GridSearchCV\n",
    "from sklearn.linear_model import Ridge\n",
    "\n",
    "alpha_grid = np.logspace(-3, 3, 10)\n",
    "epsilon_grid = np.logspace(-3, 3, 10)\n",
    "\n",
    "searcher = GridSearchCV(Ridge(), [{\"alpha\": alpha_grid, \"tol\": epsilon_grid}], scoring=\"neg_root_mean_squared_error\", cv=2)\n",
    "searcher.fit(X_train_scaled, y_train)\n",
    "\n",
    "optimal_alpha = searcher.best_params_[\"alpha\"]\n",
    "print(f\"Alpha: {optimal_alpha}\")\n",
    "\n",
    "optimal_epsilon = searcher.best_params_[\"tol\"]\n",
    "print(f\"Epsilon: {optimal_epsilon}\")"
   ]
  },
  {
   "attachments": {},
   "cell_type": "markdown",
   "metadata": {},
   "source": [
    "[x] Обучить модель на обучающей выборке, используя функцию **gradient_descent(X, y)**. Оценить качество модели на обучающей и тестовой выборках, используя **MSE**, **RMSE** и $R^2$."
   ]
  },
  {
   "cell_type": "code",
   "execution_count": 299,
   "metadata": {},
   "outputs": [],
   "source": [
    "def get_model(X, w):\n",
    "    n = X.shape[0]\n",
    "    add_column = np.ones(n)\n",
    "    X_update = np.c_[add_column, X]\n",
    "    result = np.matmul(X_update, w)\n",
    "    return result"
   ]
  },
  {
   "cell_type": "code",
   "execution_count": 300,
   "metadata": {},
   "outputs": [],
   "source": [
    "w = gradient_descent(X_train_scaled, y_train, alpha=optimal_alpha, epsilon=optimal_epsilon)\n",
    "\n",
    "y_train_gd_model = get_model(X_train_scaled, w)\n",
    "y_test_gd_model = get_model(X_test_scaled, w)"
   ]
  },
  {
   "cell_type": "code",
   "execution_count": 301,
   "metadata": {},
   "outputs": [
    {
     "name": "stdout",
     "output_type": "stream",
     "text": [
      "MSE\n",
      "train: 8368139.000772457\n",
      "test: 14228775.214008901\n",
      "RMSE\n",
      "train: 2892.773582700944\n",
      "test: 3772.1048784476952\n",
      "MSE\n",
      "train: 0.8627039940629747\n",
      "test: 0.7946322749917412\n"
     ]
    }
   ],
   "source": [
    "from sklearn.metrics import mean_squared_error, r2_score\n",
    "#MSE\n",
    "my_lr_train_mse = mean_squared_error(y_train, y_train_gd_model, squared=True)\n",
    "my_lr_test_mse = mean_squared_error(y_test, y_test_gd_model, squared=True)\n",
    "print(\"MSE\")\n",
    "print(f\"train: {my_lr_train_mse}\")\n",
    "print(f\"test: {my_lr_test_mse}\")\n",
    "\n",
    "#RMSE\n",
    "my_lr_train_rmse = mean_squared_error(y_train, y_train_gd_model, squared=False)\n",
    "my_lr_test_rmse = mean_squared_error(y_test, y_test_gd_model, squared=False)\n",
    "print(\"RMSE\")\n",
    "print(f\"train: {my_lr_train_rmse}\")\n",
    "print(f\"test: {my_lr_test_rmse}\")\n",
    "\n",
    "#R^2\n",
    "my_lr_train_r2 = r2_score(y_train, y_train_gd_model)\n",
    "my_lr_test_r2 = r2_score(y_test, y_test_gd_model)\n",
    "print(\"MSE\")\n",
    "print(f\"train: {my_lr_train_r2}\")\n",
    "print(f\"test: {my_lr_test_r2}\")"
   ]
  },
  {
   "attachments": {},
   "cell_type": "markdown",
   "metadata": {},
   "source": [
    "[x] Обучить модель, используя существующую библиотеку. Например, в **sklearn** для $L_2$-регуляризатора можно использовать **Ridge**. Сравнить качество с Вашей реализацией."
   ]
  },
  {
   "cell_type": "code",
   "execution_count": 302,
   "metadata": {},
   "outputs": [],
   "source": [
    "ridge_model = Ridge(alpha=optimal_alpha, tol=optimal_epsilon)\n",
    "ridge_model.fit(X_train_scaled, y_train)\n",
    "\n",
    "y_train_ridge_model = ridge_model.predict(X_train_scaled)\n",
    "y_test_ridge_model = ridge_model.predict(X_test_scaled)"
   ]
  },
  {
   "cell_type": "code",
   "execution_count": 303,
   "metadata": {},
   "outputs": [
    {
     "name": "stdout",
     "output_type": "stream",
     "text": [
      "MSE\n",
      "train: 7600109.752857468\n",
      "test: 12701334.70474446\n",
      "RMSE\n",
      "train: 2756.8296561190477\n",
      "test: 3563.8931949126168\n",
      "R^2\n",
      "train: 0.8753050452849742\n",
      "test: 0.8166782331121741\n"
     ]
    }
   ],
   "source": [
    "#MSE\n",
    "ridge_model_train_mse = mean_squared_error(y_train, y_train_ridge_model, squared=True)\n",
    "ridge_model_test_mse = mean_squared_error(y_test, y_test_ridge_model, squared=True)\n",
    "print(\"MSE\")\n",
    "print(f\"train: {ridge_model_train_mse}\")\n",
    "print(f\"test: {ridge_model_test_mse}\")\n",
    "\n",
    "#RMSE\n",
    "ridge_model_train_rmse = mean_squared_error(y_train, y_train_ridge_model, squared=False)\n",
    "ridge_model_test_rmse = mean_squared_error(y_test, y_test_ridge_model, squared=False)\n",
    "print(\"RMSE\")\n",
    "print(f\"train: {ridge_model_train_rmse}\")\n",
    "print(f\"test: {ridge_model_test_rmse}\")\n",
    "\n",
    "#R^2\n",
    "ridge_model_train_r2 = r2_score(y_train, y_train_ridge_model)\n",
    "ridge_model_test_r2 = r2_score(y_test, y_test_ridge_model)\n",
    "print(\"R^2\")\n",
    "print(f\"train: {ridge_model_train_r2}\")\n",
    "print(f\"test: {ridge_model_test_r2}\")"
   ]
  },
  {
   "attachments": {},
   "cell_type": "markdown",
   "metadata": {},
   "source": [
    "Реализация градиентного спуска по точности близка к библиотечной реализации"
   ]
  },
  {
   "attachments": {},
   "cell_type": "markdown",
   "metadata": {},
   "source": [
    "Обучение модели стохастического градиентного спуска"
   ]
  },
  {
   "cell_type": "code",
   "execution_count": 304,
   "metadata": {},
   "outputs": [],
   "source": [
    "w_sgd = stochastic_gd(X_train_scaled, y_train.to_numpy(), alpha=optimal_alpha, epsilon=optimal_epsilon)\n",
    "y_train_sgd_model = get_model(X_train_scaled, w_sgd)\n",
    "y_test_sgd_model = get_model(X_test_scaled, w_sgd)"
   ]
  },
  {
   "cell_type": "code",
   "execution_count": 305,
   "metadata": {},
   "outputs": [
    {
     "name": "stdout",
     "output_type": "stream",
     "text": [
      "MSE\n",
      "train: 136141730.81402385\n",
      "test: 144544011.6370506\n",
      "RMSE\n",
      "train: 11667.978865854353\n",
      "test: 12022.645783564058\n",
      "R^2\n",
      "train: -1.2336765534599397\n",
      "test: -1.0862424479263968\n"
     ]
    }
   ],
   "source": [
    "#MSE\n",
    "sgd_model_train_mse = mean_squared_error(y_train, y_train_sgd_model, squared=True)\n",
    "sgd_model_test_mse = mean_squared_error(y_test, y_test_sgd_model, squared=True)\n",
    "print(\"MSE\")\n",
    "print(f\"train: {sgd_model_train_mse}\")\n",
    "print(f\"test: {sgd_model_test_mse}\")\n",
    "\n",
    "#RMSE\n",
    "sgd_model_train_rmse = mean_squared_error(y_train, y_train_sgd_model, squared=False)\n",
    "sgd_model_test_rmse = mean_squared_error(y_test, y_test_sgd_model, squared=False)\n",
    "print(\"RMSE\")\n",
    "print(f\"train: {sgd_model_train_rmse}\")\n",
    "print(f\"test: {sgd_model_test_rmse}\")\n",
    "\n",
    "#R^2\n",
    "sgd_model_train_r2 = r2_score(y_train, y_train_sgd_model)\n",
    "sgd_model_test_r2 = r2_score(y_test, y_test_sgd_model)\n",
    "print(\"R^2\")\n",
    "print(f\"train: {sgd_model_train_r2}\")\n",
    "print(f\"test: {sgd_model_test_r2}\")"
   ]
  },
  {
   "attachments": {},
   "cell_type": "markdown",
   "metadata": {},
   "source": [
    "Обучение своей модели мини-пакетного градиентного спуска"
   ]
  },
  {
   "cell_type": "code",
   "execution_count": 306,
   "metadata": {},
   "outputs": [],
   "source": [
    "batches = int(X_train_scaled.shape[0]/50)\n",
    "w_mbgd, cost = mini_batch_gd(X_train_scaled, y_train.to_numpy(),\n",
    "                            epsilon=optimal_epsilon,\n",
    "                            batches=batches)\n",
    "\n",
    "y_train_mbgd_model = np.dot(X_train_scaled, w_mbgd) + cost\n",
    "y_test_mbgd_model = np.dot(X_test_scaled, w_mbgd) + cost"
   ]
  },
  {
   "cell_type": "code",
   "execution_count": 307,
   "metadata": {},
   "outputs": [
    {
     "name": "stdout",
     "output_type": "stream",
     "text": [
      "MSE\n",
      "train: 9899361.79717826\n",
      "test: 14891420.653708983\n",
      "RMSE\n",
      "train: 3146.325125790127\n",
      "test: 3858.9403537381845\n",
      "R^2\n",
      "train: 0.8375812309101598\n",
      "test: 0.7850681358166195\n"
     ]
    }
   ],
   "source": [
    "#MSE\n",
    "mbgd_model_train_mse = mean_squared_error(y_train, y_train_mbgd_model, squared=True)\n",
    "mbgd_model_test_mse = mean_squared_error(y_test, y_test_mbgd_model, squared=True)\n",
    "print(\"MSE\")\n",
    "print(f\"train: {mbgd_model_train_mse}\")\n",
    "print(f\"test: {mbgd_model_test_mse}\")\n",
    "\n",
    "#RMSE\n",
    "mbgd_model_train_rmse = mean_squared_error(y_train, y_train_mbgd_model, squared=False)\n",
    "mbgd_model_test_rmse = mean_squared_error(y_test, y_test_mbgd_model, squared=False)\n",
    "print(\"RMSE\")\n",
    "print(f\"train: {mbgd_model_train_rmse}\")\n",
    "print(f\"test: {mbgd_model_test_rmse}\")\n",
    "\n",
    "#R^2\n",
    "mbgd_model_train_r2 = r2_score(y_train, y_train_mbgd_model)\n",
    "mbgd_model_test_r2 = r2_score(y_test, y_test_mbgd_model)\n",
    "print(\"R^2\")\n",
    "print(f\"train: {mbgd_model_train_r2}\")\n",
    "print(f\"test: {mbgd_model_test_r2}\")"
   ]
  },
  {
   "attachments": {},
   "cell_type": "markdown",
   "metadata": {},
   "source": [
    "[x] Повторить тоже самое, но используя **кросс-валидацию**.\n",
    "\n",
    "[x] Создать таблицу, со строками (mse-train, mse-test, rmse-train, rmse-test, r2-train, r2-test) и столбцами (Fold1, Fold2, ..., Foldk, E, STD), где k --- количество фолдов в кросс-валидации, **E** --- мат. ожидание и **STD** --- стандартное отклонение. Сделать выводы."
   ]
  },
  {
   "cell_type": "code",
   "execution_count": 308,
   "metadata": {},
   "outputs": [],
   "source": [
    "from sklearn.model_selection import KFold\n",
    "\n",
    "kfold = KFold(n_splits=5)\n",
    "splited_samples = kfold.split(X=X_train_scaled, y=y_train)"
   ]
  },
  {
   "attachments": {},
   "cell_type": "markdown",
   "metadata": {},
   "source": [
    "gradient_descent"
   ]
  },
  {
   "cell_type": "code",
   "execution_count": 309,
   "metadata": {},
   "outputs": [],
   "source": [
    "results_df = pd.DataFrame(index=['mse-train', 'mse-test', 'rmse-train', 'rmse-test', 'r2-train', 'r2-test'])\n",
    "X_train_scaled_df = pd.DataFrame(X_train_scaled, columns=X.columns)\n",
    "\n",
    "for fold, (train, test) in enumerate(splited_samples):\n",
    "    searcher.fit(X_train_scaled_df.iloc[train,:], y_train.iloc[train] )\n",
    "    optimal_alpha_fold = searcher.best_params_[\"alpha\"]\n",
    "    optimal_epsilon_fold = searcher.best_params_[\"tol\"]\n",
    "    w_fold = gradient_descent(X_train_scaled_df.iloc[train,:], \n",
    "                              y_train.iloc[train], \n",
    "                              alpha=optimal_alpha_fold, epsilon=optimal_epsilon_fold)\n",
    "\n",
    "    y_train_model_fold = get_model(X_train_scaled_df.iloc[train,:], w_fold)\n",
    "    y_test_model_fold = get_model(X_train_scaled_df.iloc[test,:],w_fold)\n",
    "\n",
    "    mse_train = mean_squared_error(y_train.iloc[train], y_train_model_fold, squared=True)\n",
    "    mse_test = mean_squared_error(y_train.iloc[test], y_test_model_fold, squared=True)\n",
    "\n",
    "    rmse_train = mean_squared_error(y_train.iloc[train], y_train_model_fold, squared=False)\n",
    "    rmse_test = mean_squared_error(y_train.iloc[test], y_test_model_fold, squared=False)\n",
    "\n",
    "    r2_train = r2_score(y_train.iloc[train], y_train_model_fold)\n",
    "    r2_test = r2_score(y_train.iloc[test], y_test_model_fold)\n",
    "\n",
    "    results_df.insert(fold, f\"Fold {fold+1}\",\n",
    "                      [mse_train, mse_test,\n",
    "                       rmse_train, rmse_test,\n",
    "                       r2_train, r2_test])\n",
    "\n",
    "mean = results_df.mean(axis=1)\n",
    "std = results_df.std(axis=1)\n",
    "results_df['mean'] = mean\n",
    "results_df['std'] = std"
   ]
  },
  {
   "cell_type": "code",
   "execution_count": 310,
   "metadata": {},
   "outputs": [
    {
     "data": {
      "text/html": [
       "<div>\n",
       "<style scoped>\n",
       "    .dataframe tbody tr th:only-of-type {\n",
       "        vertical-align: middle;\n",
       "    }\n",
       "\n",
       "    .dataframe tbody tr th {\n",
       "        vertical-align: top;\n",
       "    }\n",
       "\n",
       "    .dataframe thead th {\n",
       "        text-align: right;\n",
       "    }\n",
       "</style>\n",
       "<table border=\"1\" class=\"dataframe\">\n",
       "  <thead>\n",
       "    <tr style=\"text-align: right;\">\n",
       "      <th></th>\n",
       "      <th>Fold 1</th>\n",
       "      <th>Fold 2</th>\n",
       "      <th>Fold 3</th>\n",
       "      <th>Fold 4</th>\n",
       "      <th>Fold 5</th>\n",
       "      <th>mean</th>\n",
       "      <th>std</th>\n",
       "    </tr>\n",
       "  </thead>\n",
       "  <tbody>\n",
       "    <tr>\n",
       "      <th>mse-train</th>\n",
       "      <td>9.6529e+06</td>\n",
       "      <td>9.8314e+06</td>\n",
       "      <td>6.9174e+06</td>\n",
       "      <td>7.6332e+06</td>\n",
       "      <td>7.2435e+06</td>\n",
       "      <td>8.2557e+06</td>\n",
       "      <td>1.3819e+06</td>\n",
       "    </tr>\n",
       "    <tr>\n",
       "      <th>mse-test</th>\n",
       "      <td>5.8555e+06</td>\n",
       "      <td>5.6514e+06</td>\n",
       "      <td>1.0458e+07</td>\n",
       "      <td>1.7754e+07</td>\n",
       "      <td>1.9033e+07</td>\n",
       "      <td>1.1750e+07</td>\n",
       "      <td>6.3777e+06</td>\n",
       "    </tr>\n",
       "    <tr>\n",
       "      <th>rmse-train</th>\n",
       "      <td>3.1069e+03</td>\n",
       "      <td>3.1355e+03</td>\n",
       "      <td>2.6301e+03</td>\n",
       "      <td>2.7628e+03</td>\n",
       "      <td>2.6914e+03</td>\n",
       "      <td>2.8653e+03</td>\n",
       "      <td>2.3847e+02</td>\n",
       "    </tr>\n",
       "    <tr>\n",
       "      <th>rmse-test</th>\n",
       "      <td>2.4198e+03</td>\n",
       "      <td>2.3773e+03</td>\n",
       "      <td>3.2339e+03</td>\n",
       "      <td>4.2136e+03</td>\n",
       "      <td>4.3626e+03</td>\n",
       "      <td>3.3214e+03</td>\n",
       "      <td>9.4765e+02</td>\n",
       "    </tr>\n",
       "    <tr>\n",
       "      <th>r2-train</th>\n",
       "      <td>8.5292e-01</td>\n",
       "      <td>8.5391e-01</td>\n",
       "      <td>8.8605e-01</td>\n",
       "      <td>8.6605e-01</td>\n",
       "      <td>8.6532e-01</td>\n",
       "      <td>8.6485e-01</td>\n",
       "      <td>1.3351e-02</td>\n",
       "    </tr>\n",
       "    <tr>\n",
       "      <th>r2-test</th>\n",
       "      <td>8.5826e-01</td>\n",
       "      <td>8.3292e-01</td>\n",
       "      <td>8.3033e-01</td>\n",
       "      <td>7.5882e-01</td>\n",
       "      <td>7.8538e-01</td>\n",
       "      <td>8.1314e-01</td>\n",
       "      <td>4.0138e-02</td>\n",
       "    </tr>\n",
       "  </tbody>\n",
       "</table>\n",
       "</div>"
      ],
      "text/plain": [
       "                Fold 1      Fold 2      Fold 3      Fold 4      Fold 5  \\\n",
       "mse-train   9.6529e+06  9.8314e+06  6.9174e+06  7.6332e+06  7.2435e+06   \n",
       "mse-test    5.8555e+06  5.6514e+06  1.0458e+07  1.7754e+07  1.9033e+07   \n",
       "rmse-train  3.1069e+03  3.1355e+03  2.6301e+03  2.7628e+03  2.6914e+03   \n",
       "rmse-test   2.4198e+03  2.3773e+03  3.2339e+03  4.2136e+03  4.3626e+03   \n",
       "r2-train    8.5292e-01  8.5391e-01  8.8605e-01  8.6605e-01  8.6532e-01   \n",
       "r2-test     8.5826e-01  8.3292e-01  8.3033e-01  7.5882e-01  7.8538e-01   \n",
       "\n",
       "                  mean         std  \n",
       "mse-train   8.2557e+06  1.3819e+06  \n",
       "mse-test    1.1750e+07  6.3777e+06  \n",
       "rmse-train  2.8653e+03  2.3847e+02  \n",
       "rmse-test   3.3214e+03  9.4765e+02  \n",
       "r2-train    8.6485e-01  1.3351e-02  \n",
       "r2-test     8.1314e-01  4.0138e-02  "
      ]
     },
     "execution_count": 310,
     "metadata": {},
     "output_type": "execute_result"
    }
   ],
   "source": [
    "results_df"
   ]
  },
  {
   "attachments": {},
   "cell_type": "markdown",
   "metadata": {},
   "source": [
    "Ridge"
   ]
  },
  {
   "cell_type": "code",
   "execution_count": 311,
   "metadata": {},
   "outputs": [],
   "source": [
    "from sklearn.model_selection import cross_val_score\n",
    "\n",
    "ridge_df = pd.DataFrame(index=['mse', 'rmse', 'r2'])\n",
    "model = Ridge(alpha=optimal_alpha, tol=optimal_epsilon)\n",
    "\n",
    "mse = cross_val_score(model, X_train_scaled_df, y_train, cv=kfold, scoring=\"neg_mean_squared_error\")\n",
    "rmse = cross_val_score(model, X_train_scaled_df, y_train, cv=kfold, scoring=\"neg_root_mean_squared_error\")\n",
    "r2 = cross_val_score(model, X_train_scaled_df, y_train, cv=kfold, scoring=\"r2\")\n",
    "\n",
    "for fold in range(5):\n",
    "    ridge_df.insert(fold, f\"Fold {fold+1}\", [-mse[fold],-rmse[fold],r2[fold]])\n",
    "\n",
    "mean = ridge_df.mean(axis=1)\n",
    "std = ridge_df.std(axis=1)\n",
    "ridge_df['mean'] = mean\n",
    "ridge_df['std']= std"
   ]
  },
  {
   "cell_type": "code",
   "execution_count": 312,
   "metadata": {},
   "outputs": [
    {
     "data": {
      "text/html": [
       "<div>\n",
       "<style scoped>\n",
       "    .dataframe tbody tr th:only-of-type {\n",
       "        vertical-align: middle;\n",
       "    }\n",
       "\n",
       "    .dataframe tbody tr th {\n",
       "        vertical-align: top;\n",
       "    }\n",
       "\n",
       "    .dataframe thead th {\n",
       "        text-align: right;\n",
       "    }\n",
       "</style>\n",
       "<table border=\"1\" class=\"dataframe\">\n",
       "  <thead>\n",
       "    <tr style=\"text-align: right;\">\n",
       "      <th></th>\n",
       "      <th>Fold 1</th>\n",
       "      <th>Fold 2</th>\n",
       "      <th>Fold 3</th>\n",
       "      <th>Fold 4</th>\n",
       "      <th>Fold 5</th>\n",
       "      <th>mean</th>\n",
       "      <th>std</th>\n",
       "    </tr>\n",
       "  </thead>\n",
       "  <tbody>\n",
       "    <tr>\n",
       "      <th>mse</th>\n",
       "      <td>4.5523e+06</td>\n",
       "      <td>4.2428e+06</td>\n",
       "      <td>9.9443e+06</td>\n",
       "      <td>1.5682e+07</td>\n",
       "      <td>1.6423e+07</td>\n",
       "      <td>1.0169e+07</td>\n",
       "      <td>5.8357e+06</td>\n",
       "    </tr>\n",
       "    <tr>\n",
       "      <th>rmse</th>\n",
       "      <td>2.1336e+03</td>\n",
       "      <td>2.0598e+03</td>\n",
       "      <td>3.1535e+03</td>\n",
       "      <td>3.9600e+03</td>\n",
       "      <td>4.0525e+03</td>\n",
       "      <td>3.0719e+03</td>\n",
       "      <td>9.5679e+02</td>\n",
       "    </tr>\n",
       "    <tr>\n",
       "      <th>r2</th>\n",
       "      <td>8.8981e-01</td>\n",
       "      <td>8.7457e-01</td>\n",
       "      <td>8.3866e-01</td>\n",
       "      <td>7.8697e-01</td>\n",
       "      <td>8.1481e-01</td>\n",
       "      <td>8.4096e-01</td>\n",
       "      <td>4.2188e-02</td>\n",
       "    </tr>\n",
       "  </tbody>\n",
       "</table>\n",
       "</div>"
      ],
      "text/plain": [
       "          Fold 1      Fold 2      Fold 3      Fold 4      Fold 5        mean  \\\n",
       "mse   4.5523e+06  4.2428e+06  9.9443e+06  1.5682e+07  1.6423e+07  1.0169e+07   \n",
       "rmse  2.1336e+03  2.0598e+03  3.1535e+03  3.9600e+03  4.0525e+03  3.0719e+03   \n",
       "r2    8.8981e-01  8.7457e-01  8.3866e-01  7.8697e-01  8.1481e-01  8.4096e-01   \n",
       "\n",
       "             std  \n",
       "mse   5.8357e+06  \n",
       "rmse  9.5679e+02  \n",
       "r2    4.2188e-02  "
      ]
     },
     "execution_count": 312,
     "metadata": {},
     "output_type": "execute_result"
    }
   ],
   "source": [
    "ridge_df"
   ]
  },
  {
   "attachments": {},
   "cell_type": "markdown",
   "metadata": {},
   "source": [
    "stochastic_gd"
   ]
  },
  {
   "cell_type": "code",
   "execution_count": 313,
   "metadata": {},
   "outputs": [],
   "source": [
    "kfold = KFold(n_splits=5)\n",
    "splited_samples = kfold.split(X=X_train_scaled, y=y_train)\n",
    "\n",
    "sgd_df = pd.DataFrame(index=['mse-train', 'mse-test', 'rmse-train', 'rmse-test', 'r2-train', 'r2-test'])\n",
    "X_train_scaled_df = pd.DataFrame(X_train_scaled, columns=X.columns)\n",
    "\n",
    "for fold, (train, test) in enumerate(splited_samples):\n",
    "    searcher.fit(X_train_scaled_df.iloc[train,:], y_train.iloc[train] )\n",
    "    optimal_alpha_fold = searcher.best_params_[\"alpha\"]\n",
    "    optimal_epsilon_fold = searcher.best_params_[\"tol\"]\n",
    "    w_fold = stochastic_gd(X_train_scaled_df.iloc[train,:], \n",
    "                              y_train.iloc[train].to_numpy(), \n",
    "                              alpha=optimal_alpha_fold, epsilon=optimal_epsilon_fold)\n",
    "\n",
    "    y_train_model_fold = get_model(X_train_scaled_df.iloc[train,:], w_fold)\n",
    "    y_test_model_fold = get_model(X_train_scaled_df.iloc[test,:],w_fold)\n",
    "\n",
    "    mse_train = mean_squared_error(y_train.iloc[train], y_train_model_fold, squared=True)\n",
    "    mse_test = mean_squared_error(y_train.iloc[test], y_test_model_fold, squared=True)\n",
    "\n",
    "    rmse_train = mean_squared_error(y_train.iloc[train], y_train_model_fold, squared=False)\n",
    "    rmse_test = mean_squared_error(y_train.iloc[test], y_test_model_fold, squared=False)\n",
    "\n",
    "    r2_train = r2_score(y_train.iloc[train], y_train_model_fold)\n",
    "    r2_test = r2_score(y_train.iloc[test], y_test_model_fold)\n",
    "\n",
    "    sgd_df.insert(fold, f\"Fold {fold+1}\",\n",
    "                      [mse_train, mse_test,\n",
    "                       rmse_train, rmse_test,\n",
    "                       r2_train, r2_test])\n",
    "\n",
    "mean = sgd_df.mean(axis=1)\n",
    "std = sgd_df.std(axis=1)\n",
    "sgd_df['mean'] = mean\n",
    "sgd_df['std'] = std"
   ]
  },
  {
   "cell_type": "code",
   "execution_count": 314,
   "metadata": {},
   "outputs": [
    {
     "data": {
      "text/html": [
       "<div>\n",
       "<style scoped>\n",
       "    .dataframe tbody tr th:only-of-type {\n",
       "        vertical-align: middle;\n",
       "    }\n",
       "\n",
       "    .dataframe tbody tr th {\n",
       "        vertical-align: top;\n",
       "    }\n",
       "\n",
       "    .dataframe thead th {\n",
       "        text-align: right;\n",
       "    }\n",
       "</style>\n",
       "<table border=\"1\" class=\"dataframe\">\n",
       "  <thead>\n",
       "    <tr style=\"text-align: right;\">\n",
       "      <th></th>\n",
       "      <th>Fold 1</th>\n",
       "      <th>Fold 2</th>\n",
       "      <th>Fold 3</th>\n",
       "      <th>Fold 4</th>\n",
       "      <th>Fold 5</th>\n",
       "      <th>mean</th>\n",
       "      <th>std</th>\n",
       "    </tr>\n",
       "  </thead>\n",
       "  <tbody>\n",
       "    <tr>\n",
       "      <th>mse-train</th>\n",
       "      <td>1.5696e+08</td>\n",
       "      <td>1.4854e+08</td>\n",
       "      <td>5.9673e+07</td>\n",
       "      <td>1.4743e+08</td>\n",
       "      <td>1.4347e+08</td>\n",
       "      <td>1.3121e+08</td>\n",
       "      <td>4.0293e+07</td>\n",
       "    </tr>\n",
       "    <tr>\n",
       "      <th>mse-test</th>\n",
       "      <td>1.4438e+08</td>\n",
       "      <td>1.5017e+08</td>\n",
       "      <td>6.2251e+07</td>\n",
       "      <td>2.0186e+08</td>\n",
       "      <td>1.9014e+08</td>\n",
       "      <td>1.4976e+08</td>\n",
       "      <td>5.4845e+07</td>\n",
       "    </tr>\n",
       "    <tr>\n",
       "      <th>rmse-train</th>\n",
       "      <td>1.2528e+04</td>\n",
       "      <td>1.2188e+04</td>\n",
       "      <td>7.7248e+03</td>\n",
       "      <td>1.2142e+04</td>\n",
       "      <td>1.1978e+04</td>\n",
       "      <td>1.1312e+04</td>\n",
       "      <td>2.0153e+03</td>\n",
       "    </tr>\n",
       "    <tr>\n",
       "      <th>rmse-test</th>\n",
       "      <td>1.2016e+04</td>\n",
       "      <td>1.2254e+04</td>\n",
       "      <td>7.8899e+03</td>\n",
       "      <td>1.4208e+04</td>\n",
       "      <td>1.3789e+04</td>\n",
       "      <td>1.2031e+04</td>\n",
       "      <td>2.5014e+03</td>\n",
       "    </tr>\n",
       "    <tr>\n",
       "      <th>r2-train</th>\n",
       "      <td>-1.3916e+00</td>\n",
       "      <td>-1.2071e+00</td>\n",
       "      <td>1.6997e-02</td>\n",
       "      <td>-1.5872e+00</td>\n",
       "      <td>-1.6677e+00</td>\n",
       "      <td>-1.1673e+00</td>\n",
       "      <td>6.8577e-01</td>\n",
       "    </tr>\n",
       "    <tr>\n",
       "      <th>r2-test</th>\n",
       "      <td>-2.4948e+00</td>\n",
       "      <td>-3.4395e+00</td>\n",
       "      <td>-9.9927e-03</td>\n",
       "      <td>-1.7421e+00</td>\n",
       "      <td>-1.1441e+00</td>\n",
       "      <td>-1.7661e+00</td>\n",
       "      <td>1.3041e+00</td>\n",
       "    </tr>\n",
       "  </tbody>\n",
       "</table>\n",
       "</div>"
      ],
      "text/plain": [
       "                Fold 1      Fold 2      Fold 3      Fold 4      Fold 5  \\\n",
       "mse-train   1.5696e+08  1.4854e+08  5.9673e+07  1.4743e+08  1.4347e+08   \n",
       "mse-test    1.4438e+08  1.5017e+08  6.2251e+07  2.0186e+08  1.9014e+08   \n",
       "rmse-train  1.2528e+04  1.2188e+04  7.7248e+03  1.2142e+04  1.1978e+04   \n",
       "rmse-test   1.2016e+04  1.2254e+04  7.8899e+03  1.4208e+04  1.3789e+04   \n",
       "r2-train   -1.3916e+00 -1.2071e+00  1.6997e-02 -1.5872e+00 -1.6677e+00   \n",
       "r2-test    -2.4948e+00 -3.4395e+00 -9.9927e-03 -1.7421e+00 -1.1441e+00   \n",
       "\n",
       "                  mean         std  \n",
       "mse-train   1.3121e+08  4.0293e+07  \n",
       "mse-test    1.4976e+08  5.4845e+07  \n",
       "rmse-train  1.1312e+04  2.0153e+03  \n",
       "rmse-test   1.2031e+04  2.5014e+03  \n",
       "r2-train   -1.1673e+00  6.8577e-01  \n",
       "r2-test    -1.7661e+00  1.3041e+00  "
      ]
     },
     "execution_count": 314,
     "metadata": {},
     "output_type": "execute_result"
    }
   ],
   "source": [
    "sgd_df"
   ]
  },
  {
   "attachments": {},
   "cell_type": "markdown",
   "metadata": {},
   "source": [
    "mini_batch_gd"
   ]
  },
  {
   "cell_type": "code",
   "execution_count": 315,
   "metadata": {},
   "outputs": [],
   "source": [
    "kfold = KFold(n_splits=5)\n",
    "splited_samples = kfold.split(X=X_train_scaled, y=y_train)\n",
    "\n",
    "mbgd_df = pd.DataFrame(index=['mse-train', 'mse-test', 'rmse-train', 'rmse-test', 'r2-train', 'r2-test'])\n",
    "X_train_scaled_df = pd.DataFrame(X_train_scaled, columns=X.columns)\n",
    "\n",
    "for fold, (train, test) in enumerate(splited_samples):\n",
    "    searcher.fit(X_train_scaled_df.iloc[train,:], y_train.iloc[train] )\n",
    "    optimal_epsilon_fold = searcher.best_params_[\"tol\"]\n",
    "    \n",
    "    batches_fold = int(X_train_scaled_df.iloc[train,:].shape[0]/50)\n",
    "    w_fold, cost_fold = mini_batch_gd(X_train_scaled_df.iloc[train,:], \n",
    "                              y_train.iloc[train].to_numpy(), \n",
    "                              epsilon=optimal_epsilon_fold,\n",
    "                              batches=batches_fold)\n",
    "\n",
    "    y_train_model_fold = np.dot(X_train_scaled_df.iloc[train,:], w_fold) + cost_fold\n",
    "    y_test_model_fold = np.dot(X_train_scaled_df.iloc[test,:],w_fold) + cost_fold\n",
    "\n",
    "    mse_train = mean_squared_error(y_train.iloc[train], y_train_model_fold, squared=True)\n",
    "    mse_test = mean_squared_error(y_train.iloc[test], y_test_model_fold, squared=True)\n",
    "\n",
    "    rmse_train = mean_squared_error(y_train.iloc[train], y_train_model_fold, squared=False)\n",
    "    rmse_test = mean_squared_error(y_train.iloc[test], y_test_model_fold, squared=False)\n",
    "\n",
    "    r2_train = r2_score(y_train.iloc[train], y_train_model_fold)\n",
    "    r2_test = r2_score(y_train.iloc[test], y_test_model_fold)\n",
    "\n",
    "    mbgd_df.insert(fold, f\"Fold {fold+1}\",\n",
    "                      [mse_train, mse_test,\n",
    "                       rmse_train, rmse_test,\n",
    "                       r2_train, r2_test])\n",
    "\n",
    "mean = mbgd_df.mean(axis=1)\n",
    "std = mbgd_df.std(axis=1)\n",
    "mbgd_df['mean'] = mean\n",
    "mbgd_df['std'] = std"
   ]
  },
  {
   "cell_type": "code",
   "execution_count": 316,
   "metadata": {},
   "outputs": [
    {
     "data": {
      "text/html": [
       "<div>\n",
       "<style scoped>\n",
       "    .dataframe tbody tr th:only-of-type {\n",
       "        vertical-align: middle;\n",
       "    }\n",
       "\n",
       "    .dataframe tbody tr th {\n",
       "        vertical-align: top;\n",
       "    }\n",
       "\n",
       "    .dataframe thead th {\n",
       "        text-align: right;\n",
       "    }\n",
       "</style>\n",
       "<table border=\"1\" class=\"dataframe\">\n",
       "  <thead>\n",
       "    <tr style=\"text-align: right;\">\n",
       "      <th></th>\n",
       "      <th>Fold 1</th>\n",
       "      <th>Fold 2</th>\n",
       "      <th>Fold 3</th>\n",
       "      <th>Fold 4</th>\n",
       "      <th>Fold 5</th>\n",
       "      <th>mean</th>\n",
       "      <th>std</th>\n",
       "    </tr>\n",
       "  </thead>\n",
       "  <tbody>\n",
       "    <tr>\n",
       "      <th>mse-train</th>\n",
       "      <td>1.1779e+07</td>\n",
       "      <td>1.3154e+07</td>\n",
       "      <td>1.3474e+07</td>\n",
       "      <td>8.8266e+06</td>\n",
       "      <td>9.0838e+11</td>\n",
       "      <td>1.8168e+11</td>\n",
       "      <td>4.0623e+11</td>\n",
       "    </tr>\n",
       "    <tr>\n",
       "      <th>mse-test</th>\n",
       "      <td>1.0517e+07</td>\n",
       "      <td>1.7958e+07</td>\n",
       "      <td>7.5717e+06</td>\n",
       "      <td>1.4709e+07</td>\n",
       "      <td>1.0556e+11</td>\n",
       "      <td>2.1121e+10</td>\n",
       "      <td>4.7200e+10</td>\n",
       "    </tr>\n",
       "    <tr>\n",
       "      <th>rmse-train</th>\n",
       "      <td>3.4321e+03</td>\n",
       "      <td>3.6269e+03</td>\n",
       "      <td>3.6707e+03</td>\n",
       "      <td>2.9710e+03</td>\n",
       "      <td>9.5309e+05</td>\n",
       "      <td>1.9336e+05</td>\n",
       "      <td>4.2470e+05</td>\n",
       "    </tr>\n",
       "    <tr>\n",
       "      <th>rmse-test</th>\n",
       "      <td>3.2431e+03</td>\n",
       "      <td>4.2377e+03</td>\n",
       "      <td>2.7517e+03</td>\n",
       "      <td>3.8352e+03</td>\n",
       "      <td>3.2489e+05</td>\n",
       "      <td>6.7792e+04</td>\n",
       "      <td>1.4372e+05</td>\n",
       "    </tr>\n",
       "    <tr>\n",
       "      <th>r2-train</th>\n",
       "      <td>8.2052e-01</td>\n",
       "      <td>8.0454e-01</td>\n",
       "      <td>7.7805e-01</td>\n",
       "      <td>8.4510e-01</td>\n",
       "      <td>-1.6889e+04</td>\n",
       "      <td>-3.3771e+03</td>\n",
       "      <td>7.5533e+03</td>\n",
       "    </tr>\n",
       "    <tr>\n",
       "      <th>r2-test</th>\n",
       "      <td>7.4542e-01</td>\n",
       "      <td>4.6908e-01</td>\n",
       "      <td>8.7715e-01</td>\n",
       "      <td>8.0019e-01</td>\n",
       "      <td>-1.1893e+03</td>\n",
       "      <td>-2.3728e+02</td>\n",
       "      <td>5.3218e+02</td>\n",
       "    </tr>\n",
       "  </tbody>\n",
       "</table>\n",
       "</div>"
      ],
      "text/plain": [
       "                Fold 1      Fold 2      Fold 3      Fold 4      Fold 5  \\\n",
       "mse-train   1.1779e+07  1.3154e+07  1.3474e+07  8.8266e+06  9.0838e+11   \n",
       "mse-test    1.0517e+07  1.7958e+07  7.5717e+06  1.4709e+07  1.0556e+11   \n",
       "rmse-train  3.4321e+03  3.6269e+03  3.6707e+03  2.9710e+03  9.5309e+05   \n",
       "rmse-test   3.2431e+03  4.2377e+03  2.7517e+03  3.8352e+03  3.2489e+05   \n",
       "r2-train    8.2052e-01  8.0454e-01  7.7805e-01  8.4510e-01 -1.6889e+04   \n",
       "r2-test     7.4542e-01  4.6908e-01  8.7715e-01  8.0019e-01 -1.1893e+03   \n",
       "\n",
       "                  mean         std  \n",
       "mse-train   1.8168e+11  4.0623e+11  \n",
       "mse-test    2.1121e+10  4.7200e+10  \n",
       "rmse-train  1.9336e+05  4.2470e+05  \n",
       "rmse-test   6.7792e+04  1.4372e+05  \n",
       "r2-train   -3.3771e+03  7.5533e+03  \n",
       "r2-test    -2.3728e+02  5.3218e+02  "
      ]
     },
     "execution_count": 316,
     "metadata": {},
     "output_type": "execute_result"
    }
   ],
   "source": [
    "mbgd_df"
   ]
  }
 ],
 "metadata": {
  "kernelspec": {
   "display_name": "Python 3",
   "language": "python",
   "name": "python3"
  },
  "language_info": {
   "codemirror_mode": {
    "name": "ipython",
    "version": 3
   },
   "file_extension": ".py",
   "mimetype": "text/x-python",
   "name": "python",
   "nbconvert_exporter": "python",
   "pygments_lexer": "ipython3",
   "version": "3.10.2 (tags/v3.10.2:a58ebcc, Jan 17 2022, 14:12:15) [MSC v.1929 64 bit (AMD64)]"
  },
  "orig_nbformat": 4,
  "vscode": {
   "interpreter": {
    "hash": "d3e10ef16274dd72e574b8fa73b58450b957d8421a2901baded3cca26fcf5dda"
   }
  }
 },
 "nbformat": 4,
 "nbformat_minor": 2
}
