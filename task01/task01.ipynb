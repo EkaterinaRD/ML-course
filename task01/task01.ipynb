{
 "cells": [
  {
   "attachments": {},
   "cell_type": "markdown",
   "metadata": {},
   "source": [
    "## Задача 1. Линейная регрессия, метод градиентного спуска\n",
    "\n",
    "Рыбина Екатерина Дмитриевна, 471 гр."
   ]
  },
  {
   "cell_type": "code",
   "execution_count": 26,
   "metadata": {},
   "outputs": [],
   "source": [
    "import pandas as pd\n",
    "import numpy as np\n",
    "import seaborn as sns\n",
    "\n",
    "import random\n",
    "import warnings\n",
    "\n",
    "warnings.filterwarnings('ignore')\n",
    "pd.set_option('display.precision', 4)\n",
    "random.seed(19)\n",
    "np.set_printoptions(precision=4)\n",
    "np.random.seed(19)"
   ]
  },
  {
   "attachments": {},
   "cell_type": "markdown",
   "metadata": {},
   "source": [
    "[x] Самостоятельно реализовать функцию **gradient_descent(X, y)**, которая по заданной обучающей выборке обучает модель линейной регрессии, оптимизируя функционал **методом градиентного спуска (Batch Gradient Descent, GD)** и возвращая вектор весов **w**. В качестве функционала можно выбрать, например, функцию ошибок **MSE** + $L_2$-регуляризатор. Использовать матрично-векторные операции для вычисления градиента."
   ]
  },
  {
   "cell_type": "code",
   "execution_count": 27,
   "metadata": {},
   "outputs": [],
   "source": [
    "def gradient_descent(X, y, alpha=1, epsilon=1):\n",
    "    m, n = X.shape\n",
    "    \n",
    "    free_col = np.ones((X.shape[0], 1))\n",
    "    x_long = np.concatenate((free_col,X), axis=1)\n",
    "    \n",
    "    n_new = n + 1\n",
    "    \n",
    "    W = np.ones(n_new,)\n",
    "    \n",
    "    old_cost = 0\n",
    "    Q = 0\n",
    "    k = 1\n",
    "    \n",
    "    while True:\n",
    "        y_predicted = x_long.dot(W)\n",
    "\n",
    "        loss = y_predicted - y\n",
    "        RL2 = np.sum(np.square(W[1:]))\n",
    "        Q = np.sum(loss ** 2) / n + 2.0 * alpha * RL2\n",
    "\n",
    "        gradient = (2.0 / n) * x_long.T.dot(loss) + alpha * W\n",
    "        lambd = 1 / k\n",
    "        k += 1\n",
    "\n",
    "        W = W - lambd * gradient    \n",
    "\n",
    "        if abs(Q - old_cost) < epsilon:\n",
    "            break\n",
    "            \n",
    "        old_cost = Q\n",
    "        \n",
    "    print(k)\n",
    "    return W"
   ]
  },
  {
   "attachments": {},
   "cell_type": "markdown",
   "metadata": {},
   "source": [
    "[x] Также самостоятельно реализовать **метод стохастического градиентного спуска (Stochastic Gradient Descent, SGD)**, обучить модели и добавить их во все сравнения."
   ]
  },
  {
   "cell_type": "code",
   "execution_count": 28,
   "metadata": {},
   "outputs": [],
   "source": [
    "def stochastic_gd(X, y, alpha=1, epsilon=1E-4, epochs=1_000_000):\n",
    "    m,n = X.shape\n",
    "\n",
    "    free_col = np.ones((X.shape[0], 1))\n",
    "    X_new = np.concatenate((free_col, X), axis=1)\n",
    "    W = np.random.randn(n + 1).reshape(n + 1, 1)\n",
    "\n",
    "    old_cost = 0\n",
    "    Q = 0\n",
    "    k = 1\n",
    "    while True:\n",
    "        idx = np.random.randint(0, m)\n",
    "\n",
    "        X_i = X_new[idx, :].reshape(1, n + 1)\n",
    "        y_i = y[idx].reshape(1, 1)\n",
    "\n",
    "        y_predicted = X_i.dot(W)\n",
    "        loss = y_predicted - y_i\n",
    "\n",
    "        RL2 = np.sum(np.square(W[1:]))\n",
    "        Q = np.sum(loss ** 2) / n + 2.0 * alpha *RL2\n",
    "\n",
    "        gradient = 2.0 * X_i.T.dot(loss) + alpha * W\n",
    "        lambd = 1/k\n",
    "        lg = lambd * gradient\n",
    "        W = W - lg\n",
    "\n",
    "        cd = Q - old_cost\n",
    "        old_cost = Q\n",
    "        if (abs(cd) < epsilon) or np.all(abs(lg) < epsilon) \\\n",
    "                    or k == epochs:\n",
    "                return W\n",
    "\n",
    "        k = k + 1"
   ]
  },
  {
   "attachments": {},
   "cell_type": "markdown",
   "metadata": {},
   "source": [
    "[x] Также самостоятельно реализовать **метод мини-пакетного градиентного спуска (Mini Batch Gradient Descent)**, обучить модели и добавить их во все сравнения."
   ]
  },
  {
   "cell_type": "code",
   "execution_count": 29,
   "metadata": {},
   "outputs": [],
   "source": [
    "def mini_batch_gd(X, y, batches=10, lambda_value=1E-2, epsilon=1E-4, epochs=100_000):\n",
    "    W = np.ones(X.shape[1])\n",
    "\n",
    "    cost = 0\n",
    "    k = 1\n",
    "    while True:\n",
    "        for b in range(batches):\n",
    "            idx = random.sample(range(X.shape[0]), batches)\n",
    "\n",
    "            X_i = X[idx]\n",
    "            y_i = y[idx]\n",
    "\n",
    "            y_predicted = np.dot(X_i, W) + cost\n",
    "            error = y_i - y_predicted\n",
    "\n",
    "            cost = cost - (lambda_value * -2 * np.mean(error))\n",
    "\n",
    "            gradient = -2 * np.dot(error, X_i)\n",
    "            lg = lambda_value * gradient\n",
    "            W = W - lg\n",
    "\n",
    "            if np.all(abs(lg) < epsilon) \\\n",
    "                    or k == epochs:\n",
    "                return W\n",
    "        k = k + 1"
   ]
  },
  {
   "attachments": {},
   "cell_type": "markdown",
   "metadata": {},
   "source": [
    "[x] Найти данные, на которых интересно будет решать задачу регрессии (данные для предсказания стоимости машин). \n",
    "\n",
    "[x] Считать данные, выполнить первичный анализ данных, при необходимости произвести чистку данных (**Data Cleaning**)."
   ]
  },
  {
   "cell_type": "code",
   "execution_count": 30,
   "metadata": {},
   "outputs": [],
   "source": [
    "df = pd.read_csv(\"car_price.csv\")"
   ]
  },
  {
   "cell_type": "code",
   "execution_count": 31,
   "metadata": {},
   "outputs": [
    {
     "name": "stdout",
     "output_type": "stream",
     "text": [
      "<class 'pandas.core.frame.DataFrame'>\n",
      "RangeIndex: 205 entries, 0 to 204\n",
      "Data columns (total 26 columns):\n",
      " #   Column            Non-Null Count  Dtype  \n",
      "---  ------            --------------  -----  \n",
      " 0   car_ID            205 non-null    int64  \n",
      " 1   symboling         205 non-null    int64  \n",
      " 2   CarName           205 non-null    object \n",
      " 3   fueltype          205 non-null    object \n",
      " 4   aspiration        205 non-null    object \n",
      " 5   doornumber        205 non-null    object \n",
      " 6   carbody           205 non-null    object \n",
      " 7   drivewheel        205 non-null    object \n",
      " 8   enginelocation    205 non-null    object \n",
      " 9   wheelbase         205 non-null    float64\n",
      " 10  carlength         205 non-null    float64\n",
      " 11  carwidth          205 non-null    float64\n",
      " 12  carheight         205 non-null    float64\n",
      " 13  curbweight        205 non-null    int64  \n",
      " 14  enginetype        205 non-null    object \n",
      " 15  cylindernumber    205 non-null    object \n",
      " 16  enginesize        205 non-null    int64  \n",
      " 17  fuelsystem        205 non-null    object \n",
      " 18  boreratio         205 non-null    float64\n",
      " 19  stroke            205 non-null    float64\n",
      " 20  compressionratio  205 non-null    float64\n",
      " 21  horsepower        205 non-null    int64  \n",
      " 22  peakrpm           205 non-null    int64  \n",
      " 23  citympg           205 non-null    int64  \n",
      " 24  highwaympg        205 non-null    int64  \n",
      " 25  price             205 non-null    float64\n",
      "dtypes: float64(8), int64(8), object(10)\n",
      "memory usage: 41.8+ KB\n"
     ]
    }
   ],
   "source": [
    "df.info()"
   ]
  },
  {
   "cell_type": "code",
   "execution_count": 32,
   "metadata": {},
   "outputs": [
    {
     "data": {
      "text/plain": [
       "car_ID              0\n",
       "symboling           0\n",
       "CarName             0\n",
       "fueltype            0\n",
       "aspiration          0\n",
       "doornumber          0\n",
       "carbody             0\n",
       "drivewheel          0\n",
       "enginelocation      0\n",
       "wheelbase           0\n",
       "carlength           0\n",
       "carwidth            0\n",
       "carheight           0\n",
       "curbweight          0\n",
       "enginetype          0\n",
       "cylindernumber      0\n",
       "enginesize          0\n",
       "fuelsystem          0\n",
       "boreratio           0\n",
       "stroke              0\n",
       "compressionratio    0\n",
       "horsepower          0\n",
       "peakrpm             0\n",
       "citympg             0\n",
       "highwaympg          0\n",
       "price               0\n",
       "dtype: int64"
      ]
     },
     "execution_count": 32,
     "metadata": {},
     "output_type": "execute_result"
    }
   ],
   "source": [
    "df.isnull().sum()"
   ]
  },
  {
   "attachments": {},
   "cell_type": "markdown",
   "metadata": {},
   "source": [
    "Id автомобиля в данном случае не влияет на анализ данных, поэтому можем удалить данный столбец"
   ]
  },
  {
   "cell_type": "code",
   "execution_count": 33,
   "metadata": {},
   "outputs": [],
   "source": [
    "df = df.drop(columns=[\"car_ID\"])"
   ]
  },
  {
   "cell_type": "code",
   "execution_count": 34,
   "metadata": {},
   "outputs": [
    {
     "data": {
      "text/plain": [
       "147"
      ]
     },
     "execution_count": 34,
     "metadata": {},
     "output_type": "execute_result"
    }
   ],
   "source": [
    "len(df['CarName'].unique())"
   ]
  },
  {
   "attachments": {},
   "cell_type": "markdown",
   "metadata": {},
   "source": [
    "Различных марок автомобилей много относительно их общего количества в наборе данных, чтобы судить о влияние марки на цену. Так же признаки carlength, carwidth, carheight и curbweight обобщаются признаком carbody."
   ]
  },
  {
   "cell_type": "code",
   "execution_count": 35,
   "metadata": {},
   "outputs": [],
   "source": [
    "df = df.drop(columns=[\"CarName\", \"carlength\", \"carwidth\", \"carheight\", \"curbweight\"])"
   ]
  },
  {
   "attachments": {},
   "cell_type": "markdown",
   "metadata": {},
   "source": [
    "[x] Выполнить разведочный анализ (**EDA**), использовать визуализацию, сделать выводы, которые могут быть полезны при дальнейшем решении задачи регрессии."
   ]
  },
  {
   "attachments": {},
   "cell_type": "markdown",
   "metadata": {},
   "source": [
    "Оценим распределение цен на автомобили в целом, чтобы понять в какой ценовой категории люди предпочитают покуть машину"
   ]
  },
  {
   "cell_type": "code",
   "execution_count": 36,
   "metadata": {},
   "outputs": [
    {
     "data": {
      "text/plain": [
       "<seaborn.axisgrid.FacetGrid at 0x276835f7430>"
      ]
     },
     "execution_count": 36,
     "metadata": {},
     "output_type": "execute_result"
    },
    {
     "data": {
      "image/png": "[encoded data removed]",
      "text/plain": [
       "<Figure size 500x500 with 1 Axes>"
      ]
     },
     "metadata": {},
     "output_type": "display_data"
    }
   ],
   "source": [
    "sns.displot(x='price', data=df, kde=True)"
   ]
  },
  {
   "cell_type": "code",
   "execution_count": 37,
   "metadata": {},
   "outputs": [
    {
     "name": "stdout",
     "output_type": "stream",
     "text": [
      "price       | count\n",
      "--------------------\n",
      " < 11k      | 109\n",
      "--------------------\n",
      " 11k-19k    | 68\n",
      "--------------------\n",
      " > 19k      | 28\n"
     ]
    }
   ],
   "source": [
    "print(\"price       | count\")\n",
    "print(\"--------------------\")\n",
    "print(f\" < 11k      | {df[df['price'] <= 11000].shape[0]}\")\n",
    "print(\"--------------------\")\n",
    "print(f\" 11k-19k    | {df[(df['price'] > 11000) & (df['price'] <= 19000)].shape[0]}\")\n",
    "print(\"--------------------\")\n",
    "print(f\" > 19k      | {df[df['price'] > 19000].shape[0]}\")"
   ]
  },
  {
   "attachments": {},
   "cell_type": "markdown",
   "metadata": {},
   "source": [
    "Большинство автомобилей в ценовой категории от 5000 до примерно 11000. Затем идут 11000-19000, и самые дорогие начиная от 19000.\n",
    "\n",
    "Теперь рассмотрим как влияет на цену вид топлива, который используется машиной"
   ]
  },
  {
   "cell_type": "code",
   "execution_count": 38,
   "metadata": {},
   "outputs": [
    {
     "data": {
      "text/plain": [
       "<AxesSubplot: xlabel='fueltype', ylabel='price'>"
      ]
     },
     "execution_count": 38,
     "metadata": {},
     "output_type": "execute_result"
    },
    {
     "data": {
      "image/png": "[encoded data removed]",
      "text/plain": [
       "<Figure size 640x480 with 1 Axes>"
      ]
     },
     "metadata": {},
     "output_type": "display_data"
    }
   ],
   "source": [
    "sns.barplot(x='fueltype', y='price', data=df)"
   ]
  },
  {
   "attachments": {},
   "cell_type": "markdown",
   "metadata": {},
   "source": [
    "В среднем машины на газу дешевле, чем дизельные"
   ]
  },
  {
   "cell_type": "code",
   "execution_count": 39,
   "metadata": {},
   "outputs": [
    {
     "data": {
      "text/plain": [
       "<AxesSubplot: xlabel='carbody', ylabel='price'>"
      ]
     },
     "execution_count": 39,
     "metadata": {},
     "output_type": "execute_result"
    },
    {
     "data": {
      "image/png": "[encoded data removed]",
      "text/plain": [
       "<Figure size 640x480 with 1 Axes>"
      ]
     },
     "metadata": {},
     "output_type": "display_data"
    }
   ],
   "source": [
    "sns.barplot(x='carbody', y='price', data=df)"
   ]
  },
  {
   "cell_type": "code",
   "execution_count": 40,
   "metadata": {},
   "outputs": [
    {
     "data": {
      "text/plain": [
       "<seaborn.axisgrid.FacetGrid at 0x2768958c8b0>"
      ]
     },
     "execution_count": 40,
     "metadata": {},
     "output_type": "execute_result"
    },
    {
     "data": {
      "image/png": "[encoded data removed]",
      "text/plain": [
       "<Figure size 500x500 with 1 Axes>"
      ]
     },
     "metadata": {},
     "output_type": "display_data"
    }
   ],
   "source": [
    "sns.displot(x='carbody', data=df, kde=True)"
   ]
  },
  {
   "attachments": {},
   "cell_type": "markdown",
   "metadata": {},
   "source": [
    "Sedan, hatchback и wagon являются наиболее предпачительными по цене чем convertible и hardtop"
   ]
  },
  {
   "attachments": {},
   "cell_type": "markdown",
   "metadata": {},
   "source": [
    "[x] При необходимости выполнить полезные преобразования данных (например, трансформировать категариальные признаки в количественные), убрать ненужные признаки, создать новые (**Feature Engineering**)."
   ]
  },
  {
   "cell_type": "code",
   "execution_count": 41,
   "metadata": {},
   "outputs": [],
   "source": [
    "df['fueltype'].replace(['gas', 'diesel'], [1, 2], inplace=True)\n",
    "df['aspiration'].replace(['std', 'turbo'], [1, 2], inplace=True)\n",
    "df['doornumber'].replace(['two', 'four'], [2, 4], inplace=True)\n",
    "df['carbody'].replace(['convertible', 'hatchback', 'sedan', 'wagon', 'hardtop'], [1,2,3,4,5], inplace=True)\n",
    "df['drivewheel'].replace(['rwd', 'fwd', '4wd'], [1,2,3], inplace=True)\n",
    "df['enginelocation'].replace(['front', 'rear'], [1,2], inplace=True)\n",
    "df['enginetype'].replace(['dohc', 'ohcv', 'ohc', 'l', 'rotor', 'ohcf', 'dohcv'], [1,2,3,4,5,6,7], inplace=True)\n",
    "df['cylindernumber'].replace(['four', 'six', 'five', 'three', 'twelve', 'two', 'eight'], [4,6,5,3,12,2,8], inplace=True)\n",
    "df['fuelsystem'].replace(['mpfi', '2bbl', 'mfi', '1bbl', 'spfi', '4bbl', 'idi', 'spdi'], [1,2,3,4,5,6,7,8], inplace=True)"
   ]
  },
  {
   "cell_type": "code",
   "execution_count": 42,
   "metadata": {},
   "outputs": [
    {
     "name": "stdout",
     "output_type": "stream",
     "text": [
      "<class 'pandas.core.frame.DataFrame'>\n",
      "RangeIndex: 205 entries, 0 to 204\n",
      "Data columns (total 20 columns):\n",
      " #   Column            Non-Null Count  Dtype  \n",
      "---  ------            --------------  -----  \n",
      " 0   symboling         205 non-null    int64  \n",
      " 1   fueltype          205 non-null    int64  \n",
      " 2   aspiration        205 non-null    int64  \n",
      " 3   doornumber        205 non-null    int64  \n",
      " 4   carbody           205 non-null    int64  \n",
      " 5   drivewheel        205 non-null    int64  \n",
      " 6   enginelocation    205 non-null    int64  \n",
      " 7   wheelbase         205 non-null    float64\n",
      " 8   enginetype        205 non-null    int64  \n",
      " 9   cylindernumber    205 non-null    int64  \n",
      " 10  enginesize        205 non-null    int64  \n",
      " 11  fuelsystem        205 non-null    int64  \n",
      " 12  boreratio         205 non-null    float64\n",
      " 13  stroke            205 non-null    float64\n",
      " 14  compressionratio  205 non-null    float64\n",
      " 15  horsepower        205 non-null    int64  \n",
      " 16  peakrpm           205 non-null    int64  \n",
      " 17  citympg           205 non-null    int64  \n",
      " 18  highwaympg        205 non-null    int64  \n",
      " 19  price             205 non-null    float64\n",
      "dtypes: float64(5), int64(15)\n",
      "memory usage: 32.2 KB\n"
     ]
    }
   ],
   "source": [
    "df.info()"
   ]
  },
  {
   "attachments": {},
   "cell_type": "markdown",
   "metadata": {},
   "source": [
    "Теперь все признаки имееют числовые значения"
   ]
  },
  {
   "attachments": {},
   "cell_type": "markdown",
   "metadata": {},
   "source": [
    "[x] Случайным образом разбить данные на **обучающую** и **тестовую** выборки, используя методы существующих библиотек."
   ]
  },
  {
   "cell_type": "code",
   "execution_count": 43,
   "metadata": {},
   "outputs": [],
   "source": [
    "from sklearn.model_selection import train_test_split\n",
    "\n",
    "X = df.drop(['price'], axis=1)\n",
    "y = df['price']\n",
    "\n",
    "X_train, X_test, y_train, y_test = train_test_split(X, y, test_size=0.3, random_state=42)"
   ]
  },
  {
   "attachments": {},
   "cell_type": "markdown",
   "metadata": {},
   "source": [
    "[x] При обучении моделей использовать **масштабирование данных**."
   ]
  },
  {
   "cell_type": "code",
   "execution_count": 44,
   "metadata": {},
   "outputs": [],
   "source": [
    "from sklearn.preprocessing import StandardScaler\n",
    "\n",
    "scaler = StandardScaler()\n",
    "\n",
    "X_train_scaled = scaler.fit_transform(X_train)\n",
    "X_test_scaled = scaler.transform(X_test)\n",
    "\n",
    "X_train_scaled = pd.DataFrame(X_train_scaled, columns=X.columns)\n",
    "X_test_scaled = pd.DataFrame(X_test_scaled, columns=X.columns)"
   ]
  },
  {
   "attachments": {},
   "cell_type": "markdown",
   "metadata": {},
   "source": [
    "[x]  Перед обучением моделей подобрать наилучшее количество (и само подмножество) признаков, например используя **Recursive Feature Elimination (RFE)**."
   ]
  },
  {
   "cell_type": "code",
   "execution_count": 45,
   "metadata": {},
   "outputs": [
    {
     "name": "stdout",
     "output_type": "stream",
     "text": [
      "Optimal numbers of feature: 17\n",
      "Selected features: ['symboling', 'fueltype', 'aspiration', 'doornumber', 'carbody', 'drivewheel', 'enginelocation', 'wheelbase', 'enginetype', 'cylindernumber', 'enginesize', 'fuelsystem', 'boreratio', 'stroke', 'compressionratio', 'peakrpm', 'citympg']\n"
     ]
    }
   ],
   "source": [
    "from sklearn.feature_selection import RFECV\n",
    "from sklearn.linear_model import LinearRegression\n",
    "\n",
    "rfecv = RFECV(estimator=LinearRegression())\n",
    "rfecv.fit(X_train_scaled, y_train)\n",
    "\n",
    "print(f\"Optimal numbers of feature: {rfecv.n_features_}\")\n",
    "features = list(X_train_scaled.columns[rfecv.support_])\n",
    "print(f\"Selected features: {features}\")"
   ]
  },
  {
   "cell_type": "code",
   "execution_count": 46,
   "metadata": {},
   "outputs": [],
   "source": [
    "X_train_scaled = X_train_scaled[features]\n",
    "X_test_scaled = X_test_scaled[features]"
   ]
  },
  {
   "attachments": {},
   "cell_type": "markdown",
   "metadata": {},
   "source": [
    "[x] Во все ваши реализации добавить возможность настройки нужных **гиперпараметров**, а в процессе обучения **всех** моделей осуществить подбор оптимальных значений этих гиперпараметров."
   ]
  },
  {
   "cell_type": "code",
   "execution_count": 47,
   "metadata": {},
   "outputs": [
    {
     "name": "stdout",
     "output_type": "stream",
     "text": [
      "Alpha: 10.0\n",
      "Epsilon: 0.001\n"
     ]
    }
   ],
   "source": [
    "from sklearn.model_selection import GridSearchCV\n",
    "from sklearn.linear_model import Ridge\n",
    "\n",
    "alpha_grid = np.logspace(-3, 3, 10)\n",
    "epsilon_grid = np.logspace(-3, 3, 10)\n",
    "\n",
    "searcher = GridSearchCV(Ridge(), [{\"alpha\": alpha_grid, \"tol\": epsilon_grid}], scoring=\"neg_root_mean_squared_error\", cv=2)\n",
    "searcher.fit(X_train_scaled, y_train)\n",
    "\n",
    "optimal_alpha = searcher.best_params_[\"alpha\"]\n",
    "print(f\"Alpha: {optimal_alpha}\")\n",
    "\n",
    "optimal_epsilon = searcher.best_params_[\"tol\"]\n",
    "print(f\"Epsilon: {optimal_epsilon}\")"
   ]
  },
  {
   "attachments": {},
   "cell_type": "markdown",
   "metadata": {},
   "source": [
    "[x] Обучить модель на обучающей выборке, используя функцию **gradient_descent(X, y)**(+ stochastic_gd и mini_batch_gd). Оценить качество модели на обучающей и тестовой выборках, используя **MSE**, **RMSE** и $R^2$."
   ]
  },
  {
   "cell_type": "code",
   "execution_count": 55,
   "metadata": {},
   "outputs": [],
   "source": [
    "def get_model(X, w):\n",
    "    n = X.shape[0]\n",
    "    add_column = np.ones(n)\n",
    "    X_update = np.c_[add_column, X]\n",
    "    result = np.matmul(X_update, w)\n",
    "    return result"
   ]
  },
  {
   "cell_type": "code",
   "execution_count": 56,
   "metadata": {},
   "outputs": [
    {
     "name": "stdout",
     "output_type": "stream",
     "text": [
      "976\n"
     ]
    }
   ],
   "source": [
    "w = gradient_descent(X_train_scaled, y_train, alpha=optimal_alpha, epsilon=optimal_epsilon)\n",
    "\n",
    "y_train_gd_model = get_model(X_train_scaled, w)\n",
    "y_test_gd_model = get_model(X_test_scaled, w)"
   ]
  },
  {
   "cell_type": "code",
   "execution_count": 57,
   "metadata": {},
   "outputs": [],
   "source": [
    "w_stoch = stochastic_gd(X_train_scaled, y_train.to_numpy(), alpha=optimal_alpha, epsilon=optimal_epsilon)\n",
    "\n",
    "y_train_sgd_model = get_model(X_train_scaled, w_stoch)\n",
    "y_test_sgd_model  = get_model(X_test_scaled, w_stoch)"
   ]
  },
  {
   "attachments": {},
   "cell_type": "markdown",
   "metadata": {},
   "source": [
    "[x] Обучить модель, используя существующую библиотеку. Например, в **sklearn** для $L_2$-регуляризатора можно использовать **Ridge**. Сравнить качество с Вашей реализацией."
   ]
  },
  {
   "cell_type": "code",
   "execution_count": 58,
   "metadata": {},
   "outputs": [],
   "source": [
    "ridge_model = Ridge(alpha=optimal_alpha, tol=optimal_epsilon)\n",
    "ridge_model.fit(X_train_scaled, y_train)\n",
    "\n",
    "y_train_ridge_model = ridge_model.predict(X_train_scaled)\n",
    "y_test_ridge_model = ridge_model.predict(X_test_scaled)"
   ]
  },
  {
   "cell_type": "code",
   "execution_count": 59,
   "metadata": {},
   "outputs": [],
   "source": [
    "from sklearn.metrics import mean_squared_error, r2_score\n",
    "\n",
    "#MSE\n",
    "my_lr_train_mse = mean_squared_error(y_train, y_train_gd_model, squared=True)\n",
    "my_lr_test_mse = mean_squared_error(y_test, y_test_gd_model, squared=True)\n",
    "\n",
    "sgd_model_train_mse = mean_squared_error(y_train, y_train_sgd_model, squared=True)\n",
    "sgd_model_test_mse = mean_squared_error(y_test, y_test_sgd_model, squared=True)\n",
    "\n",
    "ridge_model_train_mse = mean_squared_error(y_train, y_train_ridge_model, squared=True)\n",
    "ridge_model_test_mse = mean_squared_error(y_test, y_test_ridge_model, squared=True)\n",
    "\n",
    "#RMSE\n",
    "my_lr_train_rmse = mean_squared_error(y_train, y_train_gd_model, squared=False)\n",
    "my_lr_test_rmse = mean_squared_error(y_test, y_test_gd_model, squared=False)\n",
    "\n",
    "sgd_model_train_rmse = mean_squared_error(y_train, y_train_sgd_model, squared=False)\n",
    "sgd_model_test_rmse = mean_squared_error(y_test, y_test_sgd_model, squared=False)\n",
    "\n",
    "ridge_model_train_rmse = mean_squared_error(y_train, y_train_ridge_model, squared=False)\n",
    "ridge_model_test_rmse = mean_squared_error(y_test, y_test_ridge_model, squared=False)\n",
    "\n",
    "#R^2\n",
    "my_lr_train_r2 = r2_score(y_train, y_train_gd_model)\n",
    "my_lr_test_r2 = r2_score(y_test, y_test_gd_model)\n",
    "\n",
    "sgd_model_train_r2 = r2_score(y_train, y_train_sgd_model)\n",
    "sgd_model_test_r2 = r2_score(y_test, y_test_sgd_model)\n",
    "\n",
    "ridge_model_train_r2 = r2_score(y_train, y_train_ridge_model)\n",
    "ridge_model_test_r2 = r2_score(y_test, y_test_ridge_model)\n"
   ]
  },
  {
   "cell_type": "code",
   "execution_count": 69,
   "metadata": {},
   "outputs": [
    {
     "name": "stdout",
     "output_type": "stream",
     "text": [
      "my                           | SGD                 | ridge\n",
      "-----------------------------------------------------------------\n",
      "MSE\n",
      "train:34985690.596735924     | 152460241.55978176  | 7575504.111679892\n",
      "test:42802684.06127444       | 155915757.80697432  | 12887840.142055217\n",
      "\n",
      "RMSE\n",
      "train:5914.8702941599595     | 12347.47915810275   | 2752.3633683944954\n",
      "test:6542.376025670982       | 12486.623154679344  | 3589.963807903252\n",
      "\n",
      "R2\n",
      "train:0.42598998613228245    | -1.501414260496853  | 0.8757087498908476\n",
      "test:0.38221739273407485     | -1.2503739072518143 | 0.8139863501646897\n",
      "\n"
     ]
    }
   ],
   "source": [
    "print(\"my                           | SGD                 | ridge\")\n",
    "print(\"-----------------------------------------------------------------\")\n",
    "print(\"MSE\")\n",
    "print(f\"train:{my_lr_train_mse}     | {sgd_model_train_mse}  | {ridge_model_train_mse}\")\n",
    "print(f\"test:{my_lr_test_mse}       | {sgd_model_test_mse}  | {ridge_model_test_mse}\\n\")\n",
    "print(\"RMSE\")\n",
    "print(f\"train:{my_lr_train_rmse}     | {sgd_model_train_rmse}   | {ridge_model_train_rmse}\")\n",
    "print(f\"test:{my_lr_test_rmse}       | {sgd_model_test_rmse}  | {ridge_model_test_rmse}\\n\")\n",
    "print(\"R2\")\n",
    "print(f\"train:{my_lr_train_r2}    | {sgd_model_train_r2}  | {ridge_model_train_r2}\")\n",
    "print(f\"test:{my_lr_test_r2}     | {sgd_model_test_r2} | {ridge_model_test_r2}\\n\")"
   ]
  },
  {
   "attachments": {},
   "cell_type": "markdown",
   "metadata": {},
   "source": [
    "[x] Повторить тоже самое, но используя **кросс-валидацию**"
   ]
  },
  {
   "cell_type": "code",
   "execution_count": 70,
   "metadata": {},
   "outputs": [],
   "source": [
    "from sklearn.model_selection import KFold, cross_validate\n",
    "\n",
    "scoring = {'mse': 'neg_mean_squared_error',\n",
    "           'rmse': 'neg_root_mean_squared_error',\n",
    "           'r2': 'r2'}\n",
    "\n",
    "fold = KFold(n_splits=5)"
   ]
  },
  {
   "cell_type": "code",
   "execution_count": 71,
   "metadata": {},
   "outputs": [],
   "source": [
    "table_result = pd.DataFrame()"
   ]
  },
  {
   "cell_type": "code",
   "execution_count": 72,
   "metadata": {},
   "outputs": [],
   "source": [
    "table = cross_validate(Ridge(), X, y, cv=fold, scoring=scoring, return_train_score=True)\n",
    "\n",
    "table_result['mse-train'] = table['train_mse']*-1\n",
    "table_result['mse-test'] = table['test_mse']*-1\n",
    "table_result['rmse-train'] = table['train_rmse']*-1\n",
    "table_result['rmse-test'] = table['test_rmse']*-1\n",
    "table_result['r2-train'] = table['train_r2']\n",
    "table_result['r2-test'] = table['test_r2']"
   ]
  },
  {
   "attachments": {},
   "cell_type": "markdown",
   "metadata": {},
   "source": [
    "[x] Создать таблицу, со строками (mse-train, mse-test, rmse-train, rmse-test, r2-train, r2-test) и столбцами (Fold1, Fold2, ..., Foldk, E, STD), где k --- количество фолдов в кросс-валидации, **E** --- мат. ожидание и **STD** --- стандартное отклонение. "
   ]
  },
  {
   "cell_type": "code",
   "execution_count": 73,
   "metadata": {},
   "outputs": [
    {
     "data": {
      "text/html": [
       "<div>\n",
       "<style scoped>\n",
       "    .dataframe tbody tr th:only-of-type {\n",
       "        vertical-align: middle;\n",
       "    }\n",
       "\n",
       "    .dataframe tbody tr th {\n",
       "        vertical-align: top;\n",
       "    }\n",
       "\n",
       "    .dataframe thead th {\n",
       "        text-align: right;\n",
       "    }\n",
       "</style>\n",
       "<table border=\"1\" class=\"dataframe\">\n",
       "  <thead>\n",
       "    <tr style=\"text-align: right;\">\n",
       "      <th></th>\n",
       "      <th>0</th>\n",
       "      <th>1</th>\n",
       "      <th>2</th>\n",
       "      <th>3</th>\n",
       "      <th>4</th>\n",
       "      <th>E</th>\n",
       "      <th>STD</th>\n",
       "    </tr>\n",
       "  </thead>\n",
       "  <tbody>\n",
       "    <tr>\n",
       "      <th>mse-train</th>\n",
       "      <td>6.6471e+06</td>\n",
       "      <td>7.2529e+06</td>\n",
       "      <td>7.4322e+06</td>\n",
       "      <td>8.3048e+06</td>\n",
       "      <td>7.9121e+06</td>\n",
       "      <td>7.5098e+06</td>\n",
       "      <td>5.6749e+05</td>\n",
       "    </tr>\n",
       "    <tr>\n",
       "      <th>mse-test</th>\n",
       "      <td>1.5576e+07</td>\n",
       "      <td>1.6640e+07</td>\n",
       "      <td>1.3436e+07</td>\n",
       "      <td>1.1890e+07</td>\n",
       "      <td>1.4630e+07</td>\n",
       "      <td>1.4434e+07</td>\n",
       "      <td>1.6539e+06</td>\n",
       "    </tr>\n",
       "    <tr>\n",
       "      <th>rmse-train</th>\n",
       "      <td>2.5782e+03</td>\n",
       "      <td>2.6931e+03</td>\n",
       "      <td>2.7262e+03</td>\n",
       "      <td>2.8818e+03</td>\n",
       "      <td>2.8128e+03</td>\n",
       "      <td>2.7384e+03</td>\n",
       "      <td>1.0390e+02</td>\n",
       "    </tr>\n",
       "    <tr>\n",
       "      <th>rmse-test</th>\n",
       "      <td>3.9467e+03</td>\n",
       "      <td>4.0792e+03</td>\n",
       "      <td>3.6656e+03</td>\n",
       "      <td>3.4482e+03</td>\n",
       "      <td>3.8249e+03</td>\n",
       "      <td>3.7929e+03</td>\n",
       "      <td>2.1986e+02</td>\n",
       "    </tr>\n",
       "    <tr>\n",
       "      <th>r2-train</th>\n",
       "      <td>8.9132e-01</td>\n",
       "      <td>8.3496e-01</td>\n",
       "      <td>8.9907e-01</td>\n",
       "      <td>8.6820e-01</td>\n",
       "      <td>8.9430e-01</td>\n",
       "      <td>8.7757e-01</td>\n",
       "      <td>2.3812e-02</td>\n",
       "    </tr>\n",
       "    <tr>\n",
       "      <th>r2-test</th>\n",
       "      <td>7.8618e-01</td>\n",
       "      <td>8.7129e-01</td>\n",
       "      <td>2.7856e-01</td>\n",
       "      <td>8.1371e-01</td>\n",
       "      <td>1.8699e-01</td>\n",
       "      <td>5.8734e-01</td>\n",
       "      <td>2.9224e-01</td>\n",
       "    </tr>\n",
       "  </tbody>\n",
       "</table>\n",
       "</div>"
      ],
      "text/plain": [
       "                     0           1           2           3           4  \\\n",
       "mse-train   6.6471e+06  7.2529e+06  7.4322e+06  8.3048e+06  7.9121e+06   \n",
       "mse-test    1.5576e+07  1.6640e+07  1.3436e+07  1.1890e+07  1.4630e+07   \n",
       "rmse-train  2.5782e+03  2.6931e+03  2.7262e+03  2.8818e+03  2.8128e+03   \n",
       "rmse-test   3.9467e+03  4.0792e+03  3.6656e+03  3.4482e+03  3.8249e+03   \n",
       "r2-train    8.9132e-01  8.3496e-01  8.9907e-01  8.6820e-01  8.9430e-01   \n",
       "r2-test     7.8618e-01  8.7129e-01  2.7856e-01  8.1371e-01  1.8699e-01   \n",
       "\n",
       "                     E         STD  \n",
       "mse-train   7.5098e+06  5.6749e+05  \n",
       "mse-test    1.4434e+07  1.6539e+06  \n",
       "rmse-train  2.7384e+03  1.0390e+02  \n",
       "rmse-test   3.7929e+03  2.1986e+02  \n",
       "r2-train    8.7757e-01  2.3812e-02  \n",
       "r2-test     5.8734e-01  2.9224e-01  "
      ]
     },
     "execution_count": 73,
     "metadata": {},
     "output_type": "execute_result"
    }
   ],
   "source": [
    "table_result = table_result.T\n",
    "\n",
    "table_result['E'] = table_result.mean(axis=1)\n",
    "table_result['STD'] = table_result.std(axis=1)\n",
    "\n",
    "table_result"
   ]
  }
 ],
 "metadata": {
  "kernelspec": {
   "display_name": "Python 3",
   "language": "python",
   "name": "python3"
  },
  "language_info": {
   "codemirror_mode": {
    "name": "ipython",
    "version": 3
   },
   "file_extension": ".py",
   "mimetype": "text/x-python",
   "name": "python",
   "nbconvert_exporter": "python",
   "pygments_lexer": "ipython3",
   "version": "3.10.2"
  },
  "orig_nbformat": 4,
  "vscode": {
   "interpreter": {
    "hash": "d3e10ef16274dd72e574b8fa73b58450b957d8421a2901baded3cca26fcf5dda"
   }
  }
 },
 "nbformat": 4,
 "nbformat_minor": 2
}
