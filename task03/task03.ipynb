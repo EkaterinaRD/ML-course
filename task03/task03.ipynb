{
 "cells": [
  {
   "cell_type": "code",
   "execution_count": 2,
   "metadata": {},
   "outputs": [],
   "source": [
    "import numpy as np\n",
    "import pandas as pd\n",
    "import matplotlib.pyplot as plt\n",
    "import seaborn as sns\n",
    "from sklearn import datasets\n",
    "import warnings\n",
    "\n",
    "sns.set_theme(style=\"whitegrid\")\n",
    "warnings.filterwarnings('ignore') \n",
    "\n",
    "data = datasets.load_wine()\n",
    "\n",
    "df = pd.DataFrame(data.data, columns=data.feature_names)\n",
    "df['target'] = data.target"
   ]
  },
  {
   "cell_type": "code",
   "execution_count": 3,
   "metadata": {},
   "outputs": [
    {
     "data": {
      "text/html": [
       "<div>\n",
       "<style scoped>\n",
       "    .dataframe tbody tr th:only-of-type {\n",
       "        vertical-align: middle;\n",
       "    }\n",
       "\n",
       "    .dataframe tbody tr th {\n",
       "        vertical-align: top;\n",
       "    }\n",
       "\n",
       "    .dataframe thead th {\n",
       "        text-align: right;\n",
       "    }\n",
       "</style>\n",
       "<table border=\"1\" class=\"dataframe\">\n",
       "  <thead>\n",
       "    <tr style=\"text-align: right;\">\n",
       "      <th></th>\n",
       "      <th>alcohol</th>\n",
       "      <th>malic_acid</th>\n",
       "      <th>ash</th>\n",
       "      <th>alcalinity_of_ash</th>\n",
       "      <th>magnesium</th>\n",
       "      <th>total_phenols</th>\n",
       "      <th>flavanoids</th>\n",
       "      <th>nonflavanoid_phenols</th>\n",
       "      <th>proanthocyanins</th>\n",
       "      <th>color_intensity</th>\n",
       "      <th>hue</th>\n",
       "      <th>od280/od315_of_diluted_wines</th>\n",
       "      <th>proline</th>\n",
       "      <th>target</th>\n",
       "    </tr>\n",
       "  </thead>\n",
       "  <tbody>\n",
       "    <tr>\n",
       "      <th>0</th>\n",
       "      <td>14.23</td>\n",
       "      <td>1.71</td>\n",
       "      <td>2.43</td>\n",
       "      <td>15.6</td>\n",
       "      <td>127.0</td>\n",
       "      <td>2.80</td>\n",
       "      <td>3.06</td>\n",
       "      <td>0.28</td>\n",
       "      <td>2.29</td>\n",
       "      <td>5.64</td>\n",
       "      <td>1.04</td>\n",
       "      <td>3.92</td>\n",
       "      <td>1065.0</td>\n",
       "      <td>0</td>\n",
       "    </tr>\n",
       "    <tr>\n",
       "      <th>1</th>\n",
       "      <td>13.20</td>\n",
       "      <td>1.78</td>\n",
       "      <td>2.14</td>\n",
       "      <td>11.2</td>\n",
       "      <td>100.0</td>\n",
       "      <td>2.65</td>\n",
       "      <td>2.76</td>\n",
       "      <td>0.26</td>\n",
       "      <td>1.28</td>\n",
       "      <td>4.38</td>\n",
       "      <td>1.05</td>\n",
       "      <td>3.40</td>\n",
       "      <td>1050.0</td>\n",
       "      <td>0</td>\n",
       "    </tr>\n",
       "    <tr>\n",
       "      <th>2</th>\n",
       "      <td>13.16</td>\n",
       "      <td>2.36</td>\n",
       "      <td>2.67</td>\n",
       "      <td>18.6</td>\n",
       "      <td>101.0</td>\n",
       "      <td>2.80</td>\n",
       "      <td>3.24</td>\n",
       "      <td>0.30</td>\n",
       "      <td>2.81</td>\n",
       "      <td>5.68</td>\n",
       "      <td>1.03</td>\n",
       "      <td>3.17</td>\n",
       "      <td>1185.0</td>\n",
       "      <td>0</td>\n",
       "    </tr>\n",
       "    <tr>\n",
       "      <th>3</th>\n",
       "      <td>14.37</td>\n",
       "      <td>1.95</td>\n",
       "      <td>2.50</td>\n",
       "      <td>16.8</td>\n",
       "      <td>113.0</td>\n",
       "      <td>3.85</td>\n",
       "      <td>3.49</td>\n",
       "      <td>0.24</td>\n",
       "      <td>2.18</td>\n",
       "      <td>7.80</td>\n",
       "      <td>0.86</td>\n",
       "      <td>3.45</td>\n",
       "      <td>1480.0</td>\n",
       "      <td>0</td>\n",
       "    </tr>\n",
       "    <tr>\n",
       "      <th>4</th>\n",
       "      <td>13.24</td>\n",
       "      <td>2.59</td>\n",
       "      <td>2.87</td>\n",
       "      <td>21.0</td>\n",
       "      <td>118.0</td>\n",
       "      <td>2.80</td>\n",
       "      <td>2.69</td>\n",
       "      <td>0.39</td>\n",
       "      <td>1.82</td>\n",
       "      <td>4.32</td>\n",
       "      <td>1.04</td>\n",
       "      <td>2.93</td>\n",
       "      <td>735.0</td>\n",
       "      <td>0</td>\n",
       "    </tr>\n",
       "  </tbody>\n",
       "</table>\n",
       "</div>"
      ],
      "text/plain": [
       "   alcohol  malic_acid   ash  alcalinity_of_ash  magnesium  total_phenols  \\\n",
       "0    14.23        1.71  2.43               15.6      127.0           2.80   \n",
       "1    13.20        1.78  2.14               11.2      100.0           2.65   \n",
       "2    13.16        2.36  2.67               18.6      101.0           2.80   \n",
       "3    14.37        1.95  2.50               16.8      113.0           3.85   \n",
       "4    13.24        2.59  2.87               21.0      118.0           2.80   \n",
       "\n",
       "   flavanoids  nonflavanoid_phenols  proanthocyanins  color_intensity   hue  \\\n",
       "0        3.06                  0.28             2.29             5.64  1.04   \n",
       "1        2.76                  0.26             1.28             4.38  1.05   \n",
       "2        3.24                  0.30             2.81             5.68  1.03   \n",
       "3        3.49                  0.24             2.18             7.80  0.86   \n",
       "4        2.69                  0.39             1.82             4.32  1.04   \n",
       "\n",
       "   od280/od315_of_diluted_wines  proline  target  \n",
       "0                          3.92   1065.0       0  \n",
       "1                          3.40   1050.0       0  \n",
       "2                          3.17   1185.0       0  \n",
       "3                          3.45   1480.0       0  \n",
       "4                          2.93    735.0       0  "
      ]
     },
     "execution_count": 3,
     "metadata": {},
     "output_type": "execute_result"
    }
   ],
   "source": [
    "df.head()"
   ]
  },
  {
   "cell_type": "code",
   "execution_count": 4,
   "metadata": {},
   "outputs": [
    {
     "name": "stdout",
     "output_type": "stream",
     "text": [
      "<class 'pandas.core.frame.DataFrame'>\n",
      "RangeIndex: 178 entries, 0 to 177\n",
      "Data columns (total 14 columns):\n",
      " #   Column                        Non-Null Count  Dtype  \n",
      "---  ------                        --------------  -----  \n",
      " 0   alcohol                       178 non-null    float64\n",
      " 1   malic_acid                    178 non-null    float64\n",
      " 2   ash                           178 non-null    float64\n",
      " 3   alcalinity_of_ash             178 non-null    float64\n",
      " 4   magnesium                     178 non-null    float64\n",
      " 5   total_phenols                 178 non-null    float64\n",
      " 6   flavanoids                    178 non-null    float64\n",
      " 7   nonflavanoid_phenols          178 non-null    float64\n",
      " 8   proanthocyanins               178 non-null    float64\n",
      " 9   color_intensity               178 non-null    float64\n",
      " 10  hue                           178 non-null    float64\n",
      " 11  od280/od315_of_diluted_wines  178 non-null    float64\n",
      " 12  proline                       178 non-null    float64\n",
      " 13  target                        178 non-null    int32  \n",
      "dtypes: float64(13), int32(1)\n",
      "memory usage: 18.9 KB\n"
     ]
    }
   ],
   "source": [
    "df.info()"
   ]
  },
  {
   "cell_type": "code",
   "execution_count": 5,
   "metadata": {},
   "outputs": [
    {
     "data": {
      "text/plain": [
       "alcohol                         0\n",
       "malic_acid                      0\n",
       "ash                             0\n",
       "alcalinity_of_ash               0\n",
       "magnesium                       0\n",
       "total_phenols                   0\n",
       "flavanoids                      0\n",
       "nonflavanoid_phenols            0\n",
       "proanthocyanins                 0\n",
       "color_intensity                 0\n",
       "hue                             0\n",
       "od280/od315_of_diluted_wines    0\n",
       "proline                         0\n",
       "target                          0\n",
       "dtype: int64"
      ]
     },
     "execution_count": 5,
     "metadata": {},
     "output_type": "execute_result"
    }
   ],
   "source": [
    "df.isnull().sum()"
   ]
  },
  {
   "cell_type": "code",
   "execution_count": 6,
   "metadata": {},
   "outputs": [
    {
     "data": {
      "text/plain": [
       "1    71\n",
       "0    59\n",
       "2    48\n",
       "Name: target, dtype: int64"
      ]
     },
     "execution_count": 6,
     "metadata": {},
     "output_type": "execute_result"
    }
   ],
   "source": [
    "df['target'].value_counts()"
   ]
  },
  {
   "cell_type": "code",
   "execution_count": 7,
   "metadata": {},
   "outputs": [
    {
     "data": {
      "text/plain": [
       "<seaborn.axisgrid.FacetGrid at 0x1d207880970>"
      ]
     },
     "execution_count": 7,
     "metadata": {},
     "output_type": "execute_result"
    },
    {
     "data": {
      "image/png": "[encoded data removed]",
      "text/plain": [
       "<Figure size 500x500 with 1 Axes>"
      ]
     },
     "metadata": {},
     "output_type": "display_data"
    }
   ],
   "source": [
    "sns.displot(data=df, x=\"alcohol\", kde=True)"
   ]
  },
  {
   "attachments": {},
   "cell_type": "markdown",
   "metadata": {},
   "source": [
    "### Преобразование данных\n",
    "#### Разделение на обучающую и тестовые наборв"
   ]
  },
  {
   "cell_type": "code",
   "execution_count": 8,
   "metadata": {},
   "outputs": [],
   "source": [
    "from sklearn.model_selection import train_test_split\n",
    "\n",
    "X = df.drop(['target'], axis=1)\n",
    "y = df['target']\n",
    "\n",
    "X_train, X_test, y_train, y_test = train_test_split(X, y, test_size=0.3, random_state=42)"
   ]
  },
  {
   "attachments": {},
   "cell_type": "markdown",
   "metadata": {},
   "source": [
    "#### Масштабирование"
   ]
  },
  {
   "cell_type": "code",
   "execution_count": 9,
   "metadata": {},
   "outputs": [],
   "source": [
    "from sklearn.preprocessing import StandardScaler\n",
    "\n",
    "scaler = StandardScaler()\n",
    "\n",
    "X_train_scaled = scaler.fit_transform(X_train)\n",
    "X_test_scaled = scaler.transform(X_test)\n",
    "\n",
    "X_train_scaled = pd.DataFrame(X_train_scaled, columns=X.columns)\n",
    "X_test_scaled = pd.DataFrame(X_test_scaled, columns=X.columns)"
   ]
  },
  {
   "attachments": {},
   "cell_type": "markdown",
   "metadata": {},
   "source": [
    "#### Подбор наилучшего подмножетсва признаков (RFECV)"
   ]
  },
  {
   "cell_type": "code",
   "execution_count": 10,
   "metadata": {},
   "outputs": [
    {
     "name": "stdout",
     "output_type": "stream",
     "text": [
      "Optimal numbers of feature: 9\n",
      "Selected features: ['alcohol', 'malic_acid', 'ash', 'alcalinity_of_ash', 'flavanoids', 'color_intensity', 'hue', 'od280/od315_of_diluted_wines', 'proline']\n"
     ]
    }
   ],
   "source": [
    "from sklearn.feature_selection import RFECV\n",
    "from sklearn.linear_model import RidgeClassifierCV\n",
    "\n",
    "rfecv = RFECV(estimator=RidgeClassifierCV())\n",
    "rfecv.fit(X_train_scaled, y_train)\n",
    "\n",
    "print(f\"Optimal numbers of feature: {rfecv.n_features_}\")\n",
    "features = list(X_train_scaled.columns[rfecv.support_])\n",
    "print(f\"Selected features: {features}\")"
   ]
  },
  {
   "cell_type": "code",
   "execution_count": 11,
   "metadata": {},
   "outputs": [],
   "source": [
    "X_train_scaled = X_train_scaled[features]\n",
    "X_test_scaled = X_test_scaled[features]"
   ]
  },
  {
   "attachments": {},
   "cell_type": "markdown",
   "metadata": {},
   "source": [
    "### Подбор гиперпараметров"
   ]
  },
  {
   "cell_type": "code",
   "execution_count": 12,
   "metadata": {},
   "outputs": [],
   "source": [
    "from sklearn.model_selection import StratifiedKFold\n",
    "\n",
    "cv = StratifiedKFold(5, shuffle=True, random_state=19)"
   ]
  },
  {
   "attachments": {},
   "cell_type": "markdown",
   "metadata": {},
   "source": [
    "KNN"
   ]
  },
  {
   "cell_type": "code",
   "execution_count": 13,
   "metadata": {},
   "outputs": [
    {
     "name": "stdout",
     "output_type": "stream",
     "text": [
      "Neighbors: 11\n"
     ]
    }
   ],
   "source": [
    "from sklearn.model_selection import GridSearchCV\n",
    "from sklearn.neighbors import KNeighborsClassifier\n",
    "\n",
    "neighbors_grid = [3,5,7,9,11]\n",
    "params_knn = [{\"n_neighbors\": neighbors_grid}]\n",
    "\n",
    "searcher_knn = GridSearchCV(KNeighborsClassifier(), params_knn, cv=cv, scoring=\"roc_auc_ovr\", error_score=\"raise\")\n",
    "searcher_knn.fit(X_train_scaled, y_train)\n",
    "\n",
    "optimal_n_neighbors_knn = searcher_knn.best_params_[\"n_neighbors\"]\n",
    "print(f\"Neighbors: {optimal_n_neighbors_knn}\")"
   ]
  },
  {
   "attachments": {},
   "cell_type": "markdown",
   "metadata": {},
   "source": [
    "SVM"
   ]
  },
  {
   "cell_type": "code",
   "execution_count": 14,
   "metadata": {},
   "outputs": [
    {
     "name": "stdout",
     "output_type": "stream",
     "text": [
      "Kernel: linear\n",
      "C: 1\n",
      "Gamma: scale\n"
     ]
    }
   ],
   "source": [
    "from sklearn.svm import SVC\n",
    "\n",
    "kernel_grid = [\"linear\", \"rbf\"]\n",
    "c_svm_grid = [0.1, 0.25, 0.5, 0.75, 1]\n",
    "gamma_grid = [\"scale\", \"auto\"]\n",
    "params_svm = [{\"kernel\": kernel_grid, \n",
    "               \"C\": c_svm_grid, \n",
    "               \"gamma\": gamma_grid}]\n",
    "\n",
    "searcher_svm = GridSearchCV(SVC(random_state=19, probability=True), params_svm, cv=cv, scoring=\"roc_auc_ovr\", error_score=\"raise\")\n",
    "searcher_svm.fit(X_train_scaled, y_train)\n",
    "\n",
    "optimal_kernel = searcher_svm.best_params_[\"kernel\"]\n",
    "print(f\"Kernel: {optimal_kernel}\")\n",
    "optimal_c_svm = searcher_svm.best_params_[\"C\"]\n",
    "print(f\"C: {optimal_c_svm}\")\n",
    "optimal_gamma = searcher_svm.best_params_[\"gamma\"]\n",
    "print(f\"Gamma: {optimal_gamma}\")"
   ]
  },
  {
   "attachments": {},
   "cell_type": "markdown",
   "metadata": {},
   "source": [
    "Logistic Regression"
   ]
  },
  {
   "cell_type": "code",
   "execution_count": 15,
   "metadata": {},
   "outputs": [
    {
     "name": "stdout",
     "output_type": "stream",
     "text": [
      "C: 4.00001\n"
     ]
    }
   ],
   "source": [
    "from sklearn.linear_model import LogisticRegression\n",
    "\n",
    "c_lg_grid = np.arange(1e-05, 5, 1)\n",
    "params_lg = [{\"C\" : c_lg_grid}]\n",
    "\n",
    "searcher_lg = GridSearchCV(LogisticRegression(), params_lg, cv=cv, scoring=\"roc_auc_ovr\", error_score=\"raise\")\n",
    "searcher_lg.fit(X_train_scaled, y_train)\n",
    "\n",
    "optimal_c_lg = searcher_lg.best_params_[\"C\"]\n",
    "print(f\"C: {optimal_c_lg}\")"
   ]
  },
  {
   "attachments": {},
   "cell_type": "markdown",
   "metadata": {},
   "source": [
    "Naive Bayes"
   ]
  },
  {
   "cell_type": "code",
   "execution_count": 16,
   "metadata": {},
   "outputs": [
    {
     "name": "stdout",
     "output_type": "stream",
     "text": [
      "var_smoothing: 0.07906043210907697\n"
     ]
    }
   ],
   "source": [
    "from sklearn.naive_bayes import GaussianNB\n",
    "\n",
    "var_smoothing_grid = np.logspace(0, -9)\n",
    "params_nb = [{\"var_smoothing\" : var_smoothing_grid}]\n",
    "\n",
    "sercher_nb = GridSearchCV(GaussianNB(), params_nb, cv=cv, scoring=\"roc_auc_ovr\", error_score=\"raise\")\n",
    "sercher_nb.fit(X_train_scaled, y_train)\n",
    "\n",
    "optimal_var_smoothing = sercher_nb.best_params_[\"var_smoothing\"]\n",
    "print(f\"var_smoothing: {optimal_var_smoothing}\")"
   ]
  },
  {
   "attachments": {},
   "cell_type": "markdown",
   "metadata": {},
   "source": [
    "Decision Tree"
   ]
  },
  {
   "cell_type": "code",
   "execution_count": 17,
   "metadata": {},
   "outputs": [
    {
     "name": "stdout",
     "output_type": "stream",
     "text": [
      "Max depth: 3\n",
      "Min samples leaf: 6\n",
      "Min samples split: 2\n"
     ]
    }
   ],
   "source": [
    "from sklearn.tree import DecisionTreeClassifier\n",
    "\n",
    "max_depth_grid = range(1, 11)\n",
    "min_samples_leaf_grid = [2, 4, 6]\n",
    "min_samples_split_grid = [2, 6, 6]\n",
    "params_dt = [{\"max_depth\": max_depth_grid,\n",
    "              \"min_samples_leaf\": min_samples_leaf_grid,\n",
    "              \"min_samples_split\": min_samples_split_grid}]\n",
    "\n",
    "searcher_dt = GridSearchCV(DecisionTreeClassifier(random_state=19), params_dt, cv=cv, scoring=\"roc_auc_ovr\", error_score=\"raise\")\n",
    "searcher_dt.fit(X_train_scaled, y_train)\n",
    "\n",
    "optimal_max_depth = searcher_dt.best_params_[\"max_depth\"]\n",
    "print(f\"Max depth: {optimal_max_depth}\")\n",
    "optimal_min_samples_leaf = searcher_dt.best_params_[\"min_samples_leaf\"]\n",
    "print(f\"Min samples leaf: {optimal_min_samples_leaf}\")\n",
    "optimal_min_samples_split = searcher_dt.best_params_[\"min_samples_split\"]\n",
    "print(f\"Min samples split: {optimal_min_samples_split}\")"
   ]
  },
  {
   "attachments": {},
   "cell_type": "markdown",
   "metadata": {},
   "source": [
    "### Обучение и тестирование моделей"
   ]
  },
  {
   "cell_type": "code",
   "execution_count": 18,
   "metadata": {},
   "outputs": [],
   "source": [
    "from sklearn.model_selection import cross_validate\n",
    "from sklearn.metrics import accuracy_score\n",
    "\n",
    "accuracies = {}\n",
    "times = {}\n",
    "\n",
    "def time_model(model, X, y):\n",
    "    t = cross_validate(model, X, y, cv=5)[\"fit_time\"].mean()\n",
    "    return t"
   ]
  },
  {
   "cell_type": "code",
   "execution_count": 19,
   "metadata": {},
   "outputs": [],
   "source": [
    "knn = KNeighborsClassifier(optimal_n_neighbors_knn)\n",
    "svm = SVC(kernel=optimal_kernel, C=optimal_c_svm, gamma=optimal_gamma, random_state=19)\n",
    "lg = LogisticRegression(C=optimal_c_lg)\n",
    "nb = GaussianNB(var_smoothing=optimal_var_smoothing)\n",
    "dt = DecisionTreeClassifier(max_depth=optimal_max_depth, min_samples_leaf=optimal_min_samples_leaf, min_samples_split=optimal_min_samples_split, random_state=19)"
   ]
  },
  {
   "attachments": {},
   "cell_type": "markdown",
   "metadata": {},
   "source": [
    "#### Стратегия OneVsRest"
   ]
  },
  {
   "cell_type": "code",
   "execution_count": 20,
   "metadata": {},
   "outputs": [],
   "source": [
    "from sklearn.multiclass import OneVsRestClassifier"
   ]
  },
  {
   "attachments": {},
   "cell_type": "markdown",
   "metadata": {},
   "source": [
    "KNN"
   ]
  },
  {
   "cell_type": "code",
   "execution_count": 21,
   "metadata": {},
   "outputs": [],
   "source": [
    "knn_ovr = OneVsRestClassifier(knn).fit(X_train_scaled, y_train)\n",
    "y_knn_ovr = knn_ovr.predict(X_test_scaled)\n",
    "\n",
    "accuracies[\"knn_ovr\"] = accuracy_score(y_test, y_knn_ovr)\n",
    "times[\"knn_ovr\"] = time_model(knn_ovr, X_train_scaled, y_train)"
   ]
  },
  {
   "attachments": {},
   "cell_type": "markdown",
   "metadata": {},
   "source": [
    "SVM"
   ]
  },
  {
   "cell_type": "code",
   "execution_count": 22,
   "metadata": {},
   "outputs": [],
   "source": [
    "svm_ovr = OneVsRestClassifier(svm).fit(X_train_scaled, y_train)\n",
    "y_svm_ovr = svm_ovr.predict(X_test_scaled)\n",
    "\n",
    "accuracies[\"svm_ovr\"] = accuracy_score(y_test, y_svm_ovr)\n",
    "times[\"svm_ovr\"] = time_model(svm_ovr, X_train_scaled, y_train)"
   ]
  },
  {
   "attachments": {},
   "cell_type": "markdown",
   "metadata": {},
   "source": [
    "Logistic Regression"
   ]
  },
  {
   "cell_type": "code",
   "execution_count": 23,
   "metadata": {},
   "outputs": [],
   "source": [
    "lg_ovr = OneVsRestClassifier(lg).fit(X_train_scaled, y_train)\n",
    "y_lg_ovr = lg_ovr.predict(X_test_scaled)\n",
    "\n",
    "accuracies[\"lg_ovr\"] = accuracy_score(y_test, y_lg_ovr)\n",
    "times[\"lg_ovr\"] = time_model(lg_ovr, X_train_scaled, y_train)"
   ]
  },
  {
   "attachments": {},
   "cell_type": "markdown",
   "metadata": {},
   "source": [
    "Naive Bayes"
   ]
  },
  {
   "cell_type": "code",
   "execution_count": 24,
   "metadata": {},
   "outputs": [],
   "source": [
    "nb_ovr = OneVsRestClassifier(nb).fit(X_train_scaled, y_train)\n",
    "y_nb_ovr = nb_ovr.predict(X_test_scaled)\n",
    "\n",
    "accuracies[\"nb_ovr\"] = accuracy_score(y_test, y_nb_ovr)\n",
    "times[\"nb_ovr\"] = time_model(nb_ovr, X_train_scaled, y_train)"
   ]
  },
  {
   "attachments": {},
   "cell_type": "markdown",
   "metadata": {},
   "source": [
    "Decision Tree"
   ]
  },
  {
   "cell_type": "code",
   "execution_count": 25,
   "metadata": {},
   "outputs": [],
   "source": [
    "dt_ovr = OneVsRestClassifier(dt).fit(X_train_scaled, y_train)\n",
    "y_dt_ovr = dt_ovr.predict(X_test_scaled)\n",
    "\n",
    "accuracies[\"dt_ovr\"] = accuracy_score(y_test, y_dt_ovr)\n",
    "times[\"dt_ovr\"] = time_model(dt_ovr, X_train_scaled, y_train)"
   ]
  },
  {
   "attachments": {},
   "cell_type": "markdown",
   "metadata": {},
   "source": [
    "#### Стратегия OneVsOne"
   ]
  },
  {
   "cell_type": "code",
   "execution_count": 26,
   "metadata": {},
   "outputs": [],
   "source": [
    "from sklearn.multiclass import OneVsOneClassifier"
   ]
  },
  {
   "attachments": {},
   "cell_type": "markdown",
   "metadata": {},
   "source": [
    "KNN"
   ]
  },
  {
   "cell_type": "code",
   "execution_count": 27,
   "metadata": {},
   "outputs": [],
   "source": [
    "knn_ovo = OneVsOneClassifier(knn).fit(X_train_scaled, y_train)\n",
    "y_knn_ovo = knn_ovo.predict(X_test_scaled)\n",
    "\n",
    "accuracies[\"knn_ovo\"] = accuracy_score(y_test, y_knn_ovo)\n",
    "times[\"knn_ovo\"] = time_model(knn_ovo, X_train_scaled, y_train)"
   ]
  },
  {
   "attachments": {},
   "cell_type": "markdown",
   "metadata": {},
   "source": [
    "SVM"
   ]
  },
  {
   "cell_type": "code",
   "execution_count": 28,
   "metadata": {},
   "outputs": [],
   "source": [
    "svm_ovo = OneVsOneClassifier(svm).fit(X_train_scaled, y_train)\n",
    "y_svm_ovo = svm_ovo.predict(X_test_scaled)\n",
    "\n",
    "accuracies[\"svm_ovo\"] = accuracy_score(y_test, y_svm_ovo)\n",
    "times[\"svm_ovo\"] = time_model(svm_ovo, X_train_scaled, y_train)"
   ]
  },
  {
   "attachments": {},
   "cell_type": "markdown",
   "metadata": {},
   "source": [
    "LG"
   ]
  },
  {
   "cell_type": "code",
   "execution_count": 29,
   "metadata": {},
   "outputs": [],
   "source": [
    "lg_ovo = OneVsOneClassifier(lg).fit(X_train_scaled, y_train)\n",
    "y_lg_ovo = lg_ovo.predict(X_test_scaled)\n",
    "\n",
    "accuracies[\"lg_ovo\"] = accuracy_score(y_test, y_lg_ovo)\n",
    "times[\"lg_ovo\"] = time_model(lg_ovo, X_train_scaled, y_train)"
   ]
  },
  {
   "attachments": {},
   "cell_type": "markdown",
   "metadata": {},
   "source": [
    "NB"
   ]
  },
  {
   "cell_type": "code",
   "execution_count": 30,
   "metadata": {},
   "outputs": [],
   "source": [
    "nb_ovo = OneVsOneClassifier(nb).fit(X_train_scaled, y_train)\n",
    "y_nb_ovo = nb_ovo.predict(X_test_scaled)\n",
    "\n",
    "accuracies[\"nb_ovo\"] = accuracy_score(y_test, y_nb_ovo)\n",
    "times[\"nb_ovo\"] = time_model(nb_ovo, X_train_scaled, y_train)"
   ]
  },
  {
   "attachments": {},
   "cell_type": "markdown",
   "metadata": {},
   "source": [
    "DT"
   ]
  },
  {
   "cell_type": "code",
   "execution_count": 31,
   "metadata": {},
   "outputs": [],
   "source": [
    "dt_ovo = OneVsRestClassifier(dt).fit(X_train_scaled, y_train)\n",
    "y_dt_ovo = dt_ovo.predict(X_test_scaled)\n",
    "\n",
    "accuracies[\"dt_ovo\"] = accuracy_score(y_test, y_dt_ovo)\n",
    "times[\"dt_ovo\"] = time_model(dt_ovo, X_train_scaled, y_train)"
   ]
  },
  {
   "attachments": {},
   "cell_type": "markdown",
   "metadata": {},
   "source": [
    "#### Стратегия OutputCode"
   ]
  },
  {
   "cell_type": "code",
   "execution_count": 32,
   "metadata": {},
   "outputs": [],
   "source": [
    "from sklearn.multiclass import OutputCodeClassifier"
   ]
  },
  {
   "attachments": {},
   "cell_type": "markdown",
   "metadata": {},
   "source": [
    "KNN"
   ]
  },
  {
   "cell_type": "code",
   "execution_count": 33,
   "metadata": {},
   "outputs": [],
   "source": [
    "knn_oc = OutputCodeClassifier(knn).fit(X_train_scaled, y_train)\n",
    "y_knn_oc = knn_oc.predict(X_test_scaled)\n",
    "\n",
    "accuracies[\"knn_oc\"] = accuracy_score(y_test, y_knn_oc)\n",
    "times[\"knn_oc\"] = time_model(knn_oc, X_train_scaled, y_train)"
   ]
  },
  {
   "attachments": {},
   "cell_type": "markdown",
   "metadata": {},
   "source": [
    "SVM"
   ]
  },
  {
   "cell_type": "code",
   "execution_count": 34,
   "metadata": {},
   "outputs": [],
   "source": [
    "svm_oc = OutputCodeClassifier(svm).fit(X_train_scaled, y_train)\n",
    "y_svm_oc = svm_oc.predict(X_test_scaled)\n",
    "\n",
    "accuracies[\"svm_oc\"] = accuracy_score(y_test, y_svm_oc)\n",
    "times[\"svm_oc\"] = time_model(svm_oc, X_train_scaled, y_train)"
   ]
  },
  {
   "attachments": {},
   "cell_type": "markdown",
   "metadata": {},
   "source": [
    "LG"
   ]
  },
  {
   "cell_type": "code",
   "execution_count": 35,
   "metadata": {},
   "outputs": [],
   "source": [
    "lg_oc = OutputCodeClassifier(lg).fit(X_train_scaled, y_train)\n",
    "y_lg_oc = lg_oc.predict(X_test_scaled)\n",
    "\n",
    "accuracies[\"lg_oc\"] = accuracy_score(y_test, y_lg_oc)\n",
    "times[\"lg_oc\"] = time_model(lg_oc, X_train_scaled, y_train)"
   ]
  },
  {
   "attachments": {},
   "cell_type": "markdown",
   "metadata": {},
   "source": [
    "NB"
   ]
  },
  {
   "cell_type": "code",
   "execution_count": 36,
   "metadata": {},
   "outputs": [],
   "source": [
    "nb_oc = OneVsRestClassifier(nb).fit(X_train_scaled, y_train)\n",
    "y_nb_oc = nb_oc.predict(X_test_scaled)\n",
    "\n",
    "accuracies[\"nb_oc\"] = accuracy_score(y_test, y_nb_oc)\n",
    "times[\"nb_oc\"] = time_model(nb_oc, X_train_scaled, y_train)"
   ]
  },
  {
   "attachments": {},
   "cell_type": "markdown",
   "metadata": {},
   "source": [
    "DT"
   ]
  },
  {
   "cell_type": "code",
   "execution_count": 37,
   "metadata": {},
   "outputs": [],
   "source": [
    "dt_oc = OneVsRestClassifier(dt).fit(X_train_scaled, y_train)\n",
    "y_dt_oc = dt_oc.predict(X_test_scaled)\n",
    "\n",
    "accuracies[\"dt_oc\"] = accuracy_score(y_test, y_dt_oc)\n",
    "times[\"dt_oc\"] = time_model(dt_oc, X_train_scaled, y_train)"
   ]
  },
  {
   "attachments": {},
   "cell_type": "markdown",
   "metadata": {},
   "source": [
    "### Сравнение моделей\n",
    "#### Точность"
   ]
  },
  {
   "cell_type": "code",
   "execution_count": 38,
   "metadata": {},
   "outputs": [
    {
     "data": {
      "text/plain": [
       "<AxesSubplot: xlabel='algorithms', ylabel='accuracy'>"
      ]
     },
     "execution_count": 38,
     "metadata": {},
     "output_type": "execute_result"
    },
    {
     "data": {
      "image/png": "[encoded data removed]",
      "text/plain": [
       "<Figure size 2500x500 with 1 Axes>"
      ]
     },
     "metadata": {},
     "output_type": "display_data"
    }
   ],
   "source": [
    "sns.set_style(\"whitegrid\")\n",
    "plt.figure(figsize=(25, 5))\n",
    "plt.yticks(np.arange(0, 1.1, 0.1))\n",
    "plt.ylabel(\"accuracy\")\n",
    "plt.xlabel(\"algorithms\")\n",
    "sns.barplot(x=list(accuracies.keys()), y=list(accuracies.values()))"
   ]
  },
  {
   "attachments": {},
   "cell_type": "markdown",
   "metadata": {},
   "source": [
    "#### Время"
   ]
  },
  {
   "cell_type": "code",
   "execution_count": 39,
   "metadata": {},
   "outputs": [
    {
     "data": {
      "text/plain": [
       "<AxesSubplot: xlabel='algorithms', ylabel='time'>"
      ]
     },
     "execution_count": 39,
     "metadata": {},
     "output_type": "execute_result"
    },
    {
     "data": {
      "image/png": "[encoded data removed]",
      "text/plain": [
       "<Figure size 2500x500 with 1 Axes>"
      ]
     },
     "metadata": {},
     "output_type": "display_data"
    }
   ],
   "source": [
    "sns.set_style(\"whitegrid\")\n",
    "plt.figure(figsize=(25, 5))\n",
    "plt.yticks(np.arange(0, 1.1, 0.1))\n",
    "plt.ylabel(\"time\")\n",
    "plt.xlabel(\"algorithms\")\n",
    "sns.barplot(x=list(times.keys()), y=list(times.values()))"
   ]
  },
  {
   "cell_type": "code",
   "execution_count": 71,
   "metadata": {},
   "outputs": [],
   "source": [
    "df2 = pd.read_csv(\"Chicago_Crime_Final_Data.csv\")"
   ]
  },
  {
   "cell_type": "code",
   "execution_count": 72,
   "metadata": {},
   "outputs": [],
   "source": [
    "df2.columns = ['crime_type', 'location_desc', 'police_area', 'city_district', 'date', 'hour',\n",
    "       'police_dist', 'precipitation', 'snowfall', 'snow_depth', 'temp_max', 'temp_min', 'wind_dir', 'wind_speed',\n",
    "       'fog', 'fog_heavy', 'thunder', 'ice_pellet', 'glaze_rime', 'smoke_haze', 'snow_drift', 'day_week',\n",
    "       'month', 'holiday']\n",
    "\n",
    "\n",
    "frequent_crimes = ['BATTERY','THEFT','CRIMINAL DAMAGE']\n",
    "df2 = df2[df2['crime_type'].isin(frequent_crimes)]\n",
    "\n",
    "\n",
    "df2 = df2.sample(n=1000)\n"
   ]
  },
  {
   "cell_type": "code",
   "execution_count": 73,
   "metadata": {},
   "outputs": [],
   "source": [
    "from sklearn.preprocessing import LabelEncoder\n",
    "\n",
    "le = LabelEncoder()\n",
    "crime_types = le.fit_transform(df2[\"crime_type\"])\n",
    "df2[\"crime_type_cat\"] = crime_types\n",
    "\n",
    "locations = le.fit_transform(df2[\"location_desc\"])\n",
    "df2[\"location_desc_cat\"] = locations"
   ]
  },
  {
   "cell_type": "code",
   "execution_count": 74,
   "metadata": {},
   "outputs": [],
   "source": [
    "df2 = df2.drop(columns=[\"crime_type\", \"location_desc\", \"date\", \"fog\", \"fog_heavy\", \"thunder\", \"ice_pellet\", \"glaze_rime\", \"smoke_haze\", \"snow_drift\", \"holiday\"])"
   ]
  },
  {
   "cell_type": "code",
   "execution_count": 75,
   "metadata": {},
   "outputs": [],
   "source": [
    "X, y = df2.drop(columns=[\"crime_type_cat\", \"location_desc_cat\"]), df2[[\"crime_type_cat\", \"location_desc_cat\"]]\n",
    "X_train, X_test, y_train, y_test = train_test_split(X, y, test_size=0.2, random_state=123)\n",
    "\n",
    "scaler = StandardScaler()\n",
    "X_train_scaled = scaler.fit_transform(X_train)\n",
    "X_test_scaled = scaler.transform(X_test)"
   ]
  },
  {
   "cell_type": "code",
   "execution_count": 76,
   "metadata": {},
   "outputs": [
    {
     "data": {
      "text/html": [
       "<style>#sk-container-id-2 {color: black;background-color: white;}#sk-container-id-2 pre{padding: 0;}#sk-container-id-2 div.sk-toggleable {background-color: white;}#sk-container-id-2 label.sk-toggleable__label {cursor: pointer;display: block;width: 100%;margin-bottom: 0;padding: 0.3em;box-sizing: border-box;text-align: center;}#sk-container-id-2 label.sk-toggleable__label-arrow:before {content: \"▸\";float: left;margin-right: 0.25em;color: #696969;}#sk-container-id-2 label.sk-toggleable__label-arrow:hover:before {color: black;}#sk-container-id-2 div.sk-estimator:hover label.sk-toggleable__label-arrow:before {color: black;}#sk-container-id-2 div.sk-toggleable__content {max-height: 0;max-width: 0;overflow: hidden;text-align: left;background-color: #f0f8ff;}#sk-container-id-2 div.sk-toggleable__content pre {margin: 0.2em;color: black;border-radius: 0.25em;background-color: #f0f8ff;}#sk-container-id-2 input.sk-toggleable__control:checked~div.sk-toggleable__content {max-height: 200px;max-width: 100%;overflow: auto;}#sk-container-id-2 input.sk-toggleable__control:checked~label.sk-toggleable__label-arrow:before {content: \"▾\";}#sk-container-id-2 div.sk-estimator input.sk-toggleable__control:checked~label.sk-toggleable__label {background-color: #d4ebff;}#sk-container-id-2 div.sk-label input.sk-toggleable__control:checked~label.sk-toggleable__label {background-color: #d4ebff;}#sk-container-id-2 input.sk-hidden--visually {border: 0;clip: rect(1px 1px 1px 1px);clip: rect(1px, 1px, 1px, 1px);height: 1px;margin: -1px;overflow: hidden;padding: 0;position: absolute;width: 1px;}#sk-container-id-2 div.sk-estimator {font-family: monospace;background-color: #f0f8ff;border: 1px dotted black;border-radius: 0.25em;box-sizing: border-box;margin-bottom: 0.5em;}#sk-container-id-2 div.sk-estimator:hover {background-color: #d4ebff;}#sk-container-id-2 div.sk-parallel-item::after {content: \"\";width: 100%;border-bottom: 1px solid gray;flex-grow: 1;}#sk-container-id-2 div.sk-label:hover label.sk-toggleable__label {background-color: #d4ebff;}#sk-container-id-2 div.sk-serial::before {content: \"\";position: absolute;border-left: 1px solid gray;box-sizing: border-box;top: 0;bottom: 0;left: 50%;z-index: 0;}#sk-container-id-2 div.sk-serial {display: flex;flex-direction: column;align-items: center;background-color: white;padding-right: 0.2em;padding-left: 0.2em;position: relative;}#sk-container-id-2 div.sk-item {position: relative;z-index: 1;}#sk-container-id-2 div.sk-parallel {display: flex;align-items: stretch;justify-content: center;background-color: white;position: relative;}#sk-container-id-2 div.sk-item::before, #sk-container-id-2 div.sk-parallel-item::before {content: \"\";position: absolute;border-left: 1px solid gray;box-sizing: border-box;top: 0;bottom: 0;left: 50%;z-index: -1;}#sk-container-id-2 div.sk-parallel-item {display: flex;flex-direction: column;z-index: 1;position: relative;background-color: white;}#sk-container-id-2 div.sk-parallel-item:first-child::after {align-self: flex-end;width: 50%;}#sk-container-id-2 div.sk-parallel-item:last-child::after {align-self: flex-start;width: 50%;}#sk-container-id-2 div.sk-parallel-item:only-child::after {width: 0;}#sk-container-id-2 div.sk-dashed-wrapped {border: 1px dashed gray;margin: 0 0.4em 0.5em 0.4em;box-sizing: border-box;padding-bottom: 0.4em;background-color: white;}#sk-container-id-2 div.sk-label label {font-family: monospace;font-weight: bold;display: inline-block;line-height: 1.2em;}#sk-container-id-2 div.sk-label-container {text-align: center;}#sk-container-id-2 div.sk-container {/* jupyter's `normalize.less` sets `[hidden] { display: none; }` but bootstrap.min.css set `[hidden] { display: none !important; }` so we also need the `!important` here to be able to override the default hidden behavior on the sphinx rendered scikit-learn.org. See: https://github.com/scikit-learn/scikit-learn/issues/21755 */display: inline-block !important;position: relative;}#sk-container-id-2 div.sk-text-repr-fallback {display: none;}</style><div id=\"sk-container-id-2\" class=\"sk-top-container\"><div class=\"sk-text-repr-fallback\"><pre>GridSearchCV(cv=10, estimator=RandomForestClassifier(random_state=123),\n",
       "             n_jobs=2,\n",
       "             param_grid=[{&#x27;max_depth&#x27;: [None, 10, 20],\n",
       "                          &#x27;min_samples_split&#x27;: [2, 5, 10],\n",
       "                          &#x27;n_estimators&#x27;: [5, 50, 200]}])</pre><b>In a Jupyter environment, please rerun this cell to show the HTML representation or trust the notebook. <br />On GitHub, the HTML representation is unable to render, please try loading this page with nbviewer.org.</b></div><div class=\"sk-container\" hidden><div class=\"sk-item sk-dashed-wrapped\"><div class=\"sk-label-container\"><div class=\"sk-label sk-toggleable\"><input class=\"sk-toggleable__control sk-hidden--visually\" id=\"sk-estimator-id-4\" type=\"checkbox\" ><label for=\"sk-estimator-id-4\" class=\"sk-toggleable__label sk-toggleable__label-arrow\">GridSearchCV</label><div class=\"sk-toggleable__content\"><pre>GridSearchCV(cv=10, estimator=RandomForestClassifier(random_state=123),\n",
       "             n_jobs=2,\n",
       "             param_grid=[{&#x27;max_depth&#x27;: [None, 10, 20],\n",
       "                          &#x27;min_samples_split&#x27;: [2, 5, 10],\n",
       "                          &#x27;n_estimators&#x27;: [5, 50, 200]}])</pre></div></div></div><div class=\"sk-parallel\"><div class=\"sk-parallel-item\"><div class=\"sk-item\"><div class=\"sk-label-container\"><div class=\"sk-label sk-toggleable\"><input class=\"sk-toggleable__control sk-hidden--visually\" id=\"sk-estimator-id-5\" type=\"checkbox\" ><label for=\"sk-estimator-id-5\" class=\"sk-toggleable__label sk-toggleable__label-arrow\">estimator: RandomForestClassifier</label><div class=\"sk-toggleable__content\"><pre>RandomForestClassifier(random_state=123)</pre></div></div></div><div class=\"sk-serial\"><div class=\"sk-item\"><div class=\"sk-estimator sk-toggleable\"><input class=\"sk-toggleable__control sk-hidden--visually\" id=\"sk-estimator-id-6\" type=\"checkbox\" ><label for=\"sk-estimator-id-6\" class=\"sk-toggleable__label sk-toggleable__label-arrow\">RandomForestClassifier</label><div class=\"sk-toggleable__content\"><pre>RandomForestClassifier(random_state=123)</pre></div></div></div></div></div></div></div></div></div></div>"
      ],
      "text/plain": [
       "GridSearchCV(cv=10, estimator=RandomForestClassifier(random_state=123),\n",
       "             n_jobs=2,\n",
       "             param_grid=[{'max_depth': [None, 10, 20],\n",
       "                          'min_samples_split': [2, 5, 10],\n",
       "                          'n_estimators': [5, 50, 200]}])"
      ]
     },
     "execution_count": 76,
     "metadata": {},
     "output_type": "execute_result"
    }
   ],
   "source": [
    "from sklearn.ensemble import RandomForestClassifier\n",
    "from sklearn.multioutput import MultiOutputClassifier, ClassifierChain\n",
    "\n",
    "n_estimators_grid = [5, 50, 200]\n",
    "max_depth_rf_grid = [None, 10, 20]\n",
    "min_samples_split_rf_grid = [2, 5, 10]\n",
    "params_rf = [{\"n_estimators\": n_estimators_grid,\n",
    "              \"max_depth\": max_depth_rf_grid,\n",
    "              \"min_samples_split\": min_samples_split_rf_grid}]\n",
    "\n",
    "searcher_rf = GridSearchCV(RandomForestClassifier(random_state=123), params_rf, n_jobs=2, cv=10)\n",
    "searcher_rf.fit(X_train_scaled, y_train)\n"
   ]
  },
  {
   "cell_type": "code",
   "execution_count": 77,
   "metadata": {},
   "outputs": [
    {
     "name": "stdout",
     "output_type": "stream",
     "text": [
      "n_estimators: 5\n",
      "max_depth: None\n",
      "min_samples_split: 2\n"
     ]
    }
   ],
   "source": [
    "optimal_n_estimators = searcher_rf.best_params_[\"n_estimators\"]\n",
    "print(f\"n_estimators: {optimal_n_estimators}\")\n",
    "optimal_max_depth = searcher_rf.best_params_[\"max_depth\"]\n",
    "print(f\"max_depth: {optimal_max_depth}\")\n",
    "optimal_min_samples_split = searcher_rf.best_params_[\"min_samples_split\"]\n",
    "print(f\"min_samples_split: {optimal_min_samples_split}\")"
   ]
  },
  {
   "cell_type": "code",
   "execution_count": 78,
   "metadata": {},
   "outputs": [],
   "source": [
    "accuracies2 = {}\n",
    "times2 = {}"
   ]
  },
  {
   "cell_type": "code",
   "execution_count": 79,
   "metadata": {},
   "outputs": [],
   "source": [
    "rf = RandomForestClassifier(random_state=123, n_estimators=optimal_n_estimators, max_depth=optimal_max_depth, min_samples_split=optimal_min_samples_split)"
   ]
  },
  {
   "attachments": {},
   "cell_type": "markdown",
   "metadata": {},
   "source": [
    "MultiOutputClassifier"
   ]
  },
  {
   "cell_type": "code",
   "execution_count": 56,
   "metadata": {},
   "outputs": [],
   "source": [
    "rf_moc = MultiOutputClassifier(rf).fit(X_train_scaled, y_train)\n",
    "y_rf_moc = rf_moc.predict(X_test_scaled)"
   ]
  },
  {
   "cell_type": "code",
   "execution_count": 61,
   "metadata": {},
   "outputs": [],
   "source": [
    "accuracies2[\"rf_moc\"] = rf_moc.score(X_test_scaled, y_test)\n",
    "times2[\"rf_moc\"] = time_model(rf_moc, X_train_scaled, y_train)"
   ]
  },
  {
   "attachments": {},
   "cell_type": "markdown",
   "metadata": {},
   "source": [
    "ClassifierChain"
   ]
  },
  {
   "cell_type": "code",
   "execution_count": 80,
   "metadata": {},
   "outputs": [],
   "source": [
    "rf_cc = ClassifierChain(rf).fit(X_train_scaled, y_train)\n",
    "y_rf_cc = rf_cc.predict(X_test_scaled)"
   ]
  },
  {
   "cell_type": "code",
   "execution_count": null,
   "metadata": {},
   "outputs": [],
   "source": [
    "accuracies2[\"rf_cc\"] = rf_cc.score(X_test_scaled, y_test)\n",
    "# times2[\"rf_cc\"] = time_model(rf_cc, X_train_scaled, y_train)"
   ]
  }
 ],
 "metadata": {
  "kernelspec": {
   "display_name": "Python 3",
   "language": "python",
   "name": "python3"
  },
  "language_info": {
   "codemirror_mode": {
    "name": "ipython",
    "version": 3
   },
   "file_extension": ".py",
   "mimetype": "text/x-python",
   "name": "python",
   "nbconvert_exporter": "python",
   "pygments_lexer": "ipython3",
   "version": "3.10.2 (tags/v3.10.2:a58ebcc, Jan 17 2022, 14:12:15) [MSC v.1929 64 bit (AMD64)]"
  },
  "orig_nbformat": 4,
  "vscode": {
   "interpreter": {
    "hash": "d3e10ef16274dd72e574b8fa73b58450b957d8421a2901baded3cca26fcf5dda"
   }
  }
 },
 "nbformat": 4,
 "nbformat_minor": 2
}
